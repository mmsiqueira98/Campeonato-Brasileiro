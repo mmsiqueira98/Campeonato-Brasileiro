{
  "nbformat": 4,
  "nbformat_minor": 0,
  "metadata": {
    "colab": {
      "provenance": [],
      "authorship_tag": "ABX9TyMKyuTFer2Xc56RIaKOQ8Sk",
      "include_colab_link": true
    },
    "kernelspec": {
      "name": "python3",
      "display_name": "Python 3"
    },
    "language_info": {
      "name": "python"
    }
  },
  "cells": [
    {
      "cell_type": "markdown",
      "metadata": {
        "id": "view-in-github",
        "colab_type": "text"
      },
      "source": [
        "<a href=\"https://colab.research.google.com/github/mmsiqueira98/Campeonato-Brasileiro/blob/main/BrasileiroSerieAeB.ipynb\" target=\"_parent\"><img src=\"https://colab.research.google.com/assets/colab-badge.svg\" alt=\"Open In Colab\"/></a>"
      ]
    },
    {
      "cell_type": "markdown",
      "source": [
        "#Scraping dos dados das partidas"
      ],
      "metadata": {
        "id": "SFSq5uMNczur"
      }
    },
    {
      "cell_type": "markdown",
      "source": [
        "Nesse momento faremos o scraping dos resultados das partidas obtidos através do ID no notebook anterior"
      ],
      "metadata": {
        "id": "9C3g4QIgc7HM"
      }
    },
    {
      "cell_type": "markdown",
      "source": [
        "##Pacotes Bibliotecas e Links"
      ],
      "metadata": {
        "id": "pqiVJe3sdGDy"
      }
    },
    {
      "cell_type": "code",
      "source": [
        "pip install unidecode"
      ],
      "metadata": {
        "id": "DUtcVUXxrAX1",
        "outputId": "9df96ec8-16f6-4fc2-f734-a6e96b2f3dbb",
        "colab": {
          "base_uri": "https://localhost:8080/"
        }
      },
      "execution_count": 2,
      "outputs": [
        {
          "output_type": "stream",
          "name": "stdout",
          "text": [
            "Looking in indexes: https://pypi.org/simple, https://us-python.pkg.dev/colab-wheels/public/simple/\n",
            "Collecting unidecode\n",
            "  Downloading Unidecode-1.3.6-py3-none-any.whl (235 kB)\n",
            "\u001b[2K     \u001b[90m━━━━━━━━━━━━━━━━━━━━━━━━━━━━━━━━━━━━━━━\u001b[0m \u001b[32m235.9/235.9 kB\u001b[0m \u001b[31m9.8 MB/s\u001b[0m eta \u001b[36m0:00:00\u001b[0m\n",
            "\u001b[?25hInstalling collected packages: unidecode\n",
            "Successfully installed unidecode-1.3.6\n"
          ]
        }
      ]
    },
    {
      "cell_type": "code",
      "execution_count": 1,
      "metadata": {
        "id": "mnbtu969cxCu"
      },
      "outputs": [],
      "source": [
        "import requests\n",
        "from bs4 import BeautifulSoup\n",
        "import csv\n",
        "from requests import HTTPError\n",
        "from xml.dom import minidom\n",
        "import pandas as pd\n",
        "import matplotlib.pyplot as plt\n",
        "import re\n",
        "from typing import List\n",
        "from typing import Union\n",
        "from bs4.element import Tag\n",
        "import time\n",
        "from google.colab import files\n"
      ]
    },
    {
      "cell_type": "markdown",
      "source": [
        "#Trazendo o Arquivo csv para uma lista"
      ],
      "metadata": {
        "id": "cbMBKhOadhuk"
      }
    },
    {
      "cell_type": "code",
      "source": [
        "lista_csv = []\n",
        "\n",
        "with open('/content/partidas.csv', 'r') as arquivo:\n",
        "    leitor = csv.reader(arquivo)\n",
        "    next(leitor)\n",
        "    for linha in leitor:\n",
        "        lista_csv.append(linha)"
      ],
      "metadata": {
        "id": "fFzcvbK2dk_P"
      },
      "execution_count": 3,
      "outputs": []
    },
    {
      "cell_type": "markdown",
      "source": [
        "#Funções Básicas"
      ],
      "metadata": {
        "id": "zFd-7YUgfDW7"
      }
    },
    {
      "cell_type": "markdown",
      "source": [
        "Função para se realizar o crawling do website"
      ],
      "metadata": {
        "id": "r4kv3N0nuuGD"
      }
    },
    {
      "cell_type": "code",
      "source": [
        "def crawl_website(url: str, archive: str) -> str:\n",
        "  try:\n",
        "    resposta = requests.get(url)\n",
        "\n",
        "\n",
        "  except HTTPError as exc:\n",
        "    print(exc)\n",
        "\n",
        "  else:\n",
        "    b = resposta.text\n",
        "    soup = BeautifulSoup(b, 'html.parser')\n",
        "    with open(f'{archive}.html', 'w') as file:\n",
        "      file.write(soup.prettify())\n",
        "\n",
        "  pagina = BeautifulSoup(open(f'{archive}.html',mode='r'),'html.parser')\n",
        "  return pagina"
      ],
      "metadata": {
        "id": "y0OCkNmofHr8"
      },
      "execution_count": 4,
      "outputs": []
    },
    {
      "cell_type": "markdown",
      "source": [
        "#Funções com as informações dos jogos (quanto tiver)"
      ],
      "metadata": {
        "id": "7JYdin6ouzKI"
      }
    },
    {
      "cell_type": "markdown",
      "source": [
        "Se você observar bem todas as funções tem os dados de find_all o que tem dentro desse  find_all nada mais é que a informação relacionada a que eu preciso. Então, por exmeplo escanteios_casa nada mais é do que a posição onde se encontra a estatística relaciona aos escanteios cobrados pelo time da casa na partida em questão. E assim sucessivamente."
      ],
      "metadata": {
        "id": "TQOEFJ_4Wsrw"
      }
    },
    {
      "cell_type": "code",
      "source": [
        "def campeonato(elementos = List[Tag]):\n",
        "  elementos = a.find_all('div', class_=\"game-details header\")\n",
        "\n",
        "  informacoes = [elemento.get_text(strip=True) for elemento in elementos]\n",
        "  return informacoes"
      ],
      "metadata": {
        "id": "YXb8qKEIpHd2"
      },
      "execution_count": 5,
      "outputs": []
    },
    {
      "cell_type": "code",
      "source": [
        "def times_desputando(elementos = List[Tag]):\n",
        "  elementos = a.find_all('span', class_=\"short-name\")\n",
        "\n",
        "  informacoes = [elemento.get_text(strip=True) for elemento in elementos]\n",
        "\n",
        "  if not informacoes:\n",
        "      informacoes = [float('nan')]\n",
        "\n",
        "\n",
        "  return informacoes"
      ],
      "metadata": {
        "id": "QoWIdWSIptE0"
      },
      "execution_count": 6,
      "outputs": []
    },
    {
      "cell_type": "code",
      "source": [
        "def posse_de_bola(elementos = List[Tag]):\n",
        "  elementos = a.find_all('span', class_=\"chartValue\")\n",
        "\n",
        "  informacoes = [elemento.get_text(strip=True) for elemento in elementos]\n",
        "\n",
        "  if not informacoes:\n",
        "      informacoes = [float('nan')]\n",
        "\n",
        "\n",
        "  return informacoes"
      ],
      "metadata": {
        "id": "d_No_EYsqJO6"
      },
      "execution_count": 7,
      "outputs": []
    },
    {
      "cell_type": "code",
      "source": [
        "def faltas_time_casa(elementos = List[Tag]):\n",
        "  elemento_td = a.find_all('td', {'data-home-away': 'home', 'data-stat': 'foulsCommitted'})\n",
        "\n",
        "  informacoes = [elemento.get_text(strip=True) for elemento in elemento_td]\n",
        "\n",
        "  if not informacoes:\n",
        "      informacoes = [float('nan')]\n",
        "\n",
        "\n",
        "  return informacoes"
      ],
      "metadata": {
        "id": "IezNAj0PrkUp"
      },
      "execution_count": 8,
      "outputs": []
    },
    {
      "cell_type": "code",
      "source": [
        "def faltas_time_visitante(elementos = List[Tag]):\n",
        "  elemento_td = a.find_all('td', {'data-home-away': 'away', 'data-stat': 'foulsCommitted'})\n",
        "\n",
        "  informacoes = [elemento.get_text(strip=True) for elemento in elemento_td]\n",
        "\n",
        "  if not informacoes:\n",
        "      informacoes = [float('nan')]\n",
        "\n",
        "\n",
        "  return informacoes"
      ],
      "metadata": {
        "id": "bMPSKBoXr2zi"
      },
      "execution_count": 9,
      "outputs": []
    },
    {
      "cell_type": "code",
      "source": [
        "def cartoes_amarelos_visitante(elementos = List[Tag]):\n",
        "  elemento_td = a.find_all('td', {'data-home-away': 'away', 'data-stat': 'yellowCards'})\n",
        "\n",
        "  informacoes = [elemento.get_text(strip=True) for elemento in elemento_td]\n",
        "\n",
        "  if not informacoes:\n",
        "      informacoes = [float('nan')]\n",
        "\n",
        "\n",
        "  return informacoes"
      ],
      "metadata": {
        "id": "8Ibmy92luN7O"
      },
      "execution_count": 10,
      "outputs": []
    },
    {
      "cell_type": "code",
      "source": [
        "def cartoes_amarelos_casa(elementos = List[Tag]):\n",
        "  elemento_td = a.find_all('td', {'data-home-away': 'home', 'data-stat': 'yellowCards'})\n",
        "\n",
        "  informacoes = [elemento.get_text(strip=True) for elemento in elemento_td]\n",
        "\n",
        "  if not informacoes:\n",
        "      informacoes = [float('nan')]\n",
        "\n",
        "\n",
        "  return informacoes"
      ],
      "metadata": {
        "id": "rs76TgcAuPuv"
      },
      "execution_count": 11,
      "outputs": []
    },
    {
      "cell_type": "code",
      "source": [
        "def cartoes_vermelhos_casa(elementos = List[Tag]):\n",
        "  elemento_td = a.find_all('td', {'data-home-away': 'home', 'data-stat': 'redCards'})\n",
        "\n",
        "  informacoes = [elemento.get_text(strip=True) for elemento in elemento_td]\n",
        "\n",
        "  if not informacoes:\n",
        "      informacoes = [float('nan')]\n",
        "\n",
        "\n",
        "  return informacoes"
      ],
      "metadata": {
        "id": "4UVSrEpLDPNN"
      },
      "execution_count": 12,
      "outputs": []
    },
    {
      "cell_type": "code",
      "source": [
        "def cartoes_vermelhos_visitante(elementos = List[Tag]):\n",
        "  elemento_td = a.find_all('td', {'data-home-away': 'away', 'data-stat': 'redCards'})\n",
        "\n",
        "  informacoes = [elemento.get_text(strip=True) for elemento in elemento_td]\n",
        "\n",
        "  if not informacoes:\n",
        "      informacoes = [float('nan')]\n",
        "\n",
        "\n",
        "  return informacoes"
      ],
      "metadata": {
        "id": "JUekwccUDRK3"
      },
      "execution_count": 13,
      "outputs": []
    },
    {
      "cell_type": "code",
      "source": [
        "def chutes_fora_casa(elementos = List[Tag]):\n",
        "  elemento_td = a.find_all('td', {'data-home-away': 'home', 'data-stat': 'offsides'})\n",
        "\n",
        "  informacoes = [elemento.get_text(strip=True) for elemento in elemento_td]\n",
        "\n",
        "  if not informacoes:\n",
        "      informacoes = [float('nan')]\n",
        "\n",
        "\n",
        "  return informacoes"
      ],
      "metadata": {
        "id": "YPGb0NTEELH3"
      },
      "execution_count": 14,
      "outputs": []
    },
    {
      "cell_type": "code",
      "source": [
        "def chutes_fora_visitante(elementos = List[Tag]):\n",
        "  elemento_td = a.find_all('td', {'data-home-away': 'away', 'data-stat': 'offsides'})\n",
        "\n",
        "  informacoes = [elemento.get_text(strip=True) for elemento in elemento_td]\n",
        "\n",
        "  if not informacoes:\n",
        "      informacoes = [float('nan')]\n",
        "\n",
        "\n",
        "  return informacoes"
      ],
      "metadata": {
        "id": "I6ffuoznELCe"
      },
      "execution_count": 15,
      "outputs": []
    },
    {
      "cell_type": "code",
      "source": [
        "def escanteio_casa(elementos = List[Tag]):\n",
        "  elemento_td = a.find_all('td', {'data-home-away': 'home', 'data-stat': 'wonCorners'})\n",
        "\n",
        "  informacoes = [elemento.get_text(strip=True) for elemento in elemento_td]\n",
        "\n",
        "  if not informacoes:\n",
        "      informacoes = [float('nan')]\n",
        "\n",
        "\n",
        "  return informacoes"
      ],
      "metadata": {
        "id": "8qUjEExWuUM-"
      },
      "execution_count": 16,
      "outputs": []
    },
    {
      "cell_type": "code",
      "source": [
        "def escanteio_visitante(elementos = List[Tag]):\n",
        "  elemento_td = a.find_all('td', {'data-home-away': 'away', 'data-stat': 'wonCorners'})\n",
        "\n",
        "  informacoes = [elemento.get_text(strip=True) for elemento in elemento_td]\n",
        "\n",
        "  if not informacoes:\n",
        "      informacoes = [float('nan')]\n",
        "\n",
        "\n",
        "  return informacoes"
      ],
      "metadata": {
        "id": "fb4yoJvzEzp0"
      },
      "execution_count": 17,
      "outputs": []
    },
    {
      "cell_type": "code",
      "source": [
        "def escanteio_casa(elementos = List[Tag]):\n",
        "  elemento_td = a.find_all('td', {'data-home-away': 'home', 'data-stat': 'wonCorners'})\n",
        "\n",
        "  informacoes = [elemento.get_text(strip=True) for elemento in elemento_td]\n",
        "\n",
        "  if not informacoes:\n",
        "      informacoes = [float('nan')]\n",
        "\n",
        "\n",
        "  return informacoes"
      ],
      "metadata": {
        "id": "zOkXTANSFER5"
      },
      "execution_count": 18,
      "outputs": []
    },
    {
      "cell_type": "code",
      "source": [
        "def defesa_casa(elementos = List[Tag]):\n",
        "  elemento_td = a.find_all('td', {'data-home-away': 'home', 'data-stat': 'saves'})\n",
        "\n",
        "  informacoes = [elemento.get_text(strip=True) for elemento in elemento_td]\n",
        "\n",
        "  if not informacoes:\n",
        "      informacoes = [float('nan')]\n",
        "\n",
        "\n",
        "  return informacoes"
      ],
      "metadata": {
        "id": "YPYRiHYYFzGL"
      },
      "execution_count": 19,
      "outputs": []
    },
    {
      "cell_type": "code",
      "source": [
        "def defesa_visitante(elementos = List[Tag]):\n",
        "  elemento_td = a.find_all('td', {'data-home-away': 'away', 'data-stat': 'saves'})\n",
        "\n",
        "  if elemento_td is not None:\n",
        "    informacoes = [elemento.get_text(strip=True) for elemento in elemento_td]\n",
        "\n",
        "    if not informacoes:\n",
        "      informacoes = [float('nan')]\n",
        "\n",
        "\n",
        "      return informacoes\n",
        "\n",
        "  return None"
      ],
      "metadata": {
        "id": "lRVyZooPFhuu"
      },
      "execution_count": 20,
      "outputs": []
    },
    {
      "cell_type": "code",
      "source": [
        "def resultado_casa(elementos = List[Tag]):\n",
        "  elemento_td= elementos.find('span', {'class': 'score', 'data-home-away': 'home', 'data-stat': 'score'})\n",
        "\n",
        "  if elemento_td is not None:\n",
        "    informacoes = [elemento.get_text(strip=True) for elemento in elemento_td]\n",
        "  else:\n",
        "     informacoes = ['nan']\n",
        "\n",
        "  return informacoes"
      ],
      "metadata": {
        "id": "NV7GEOqWL0Rr"
      },
      "execution_count": 21,
      "outputs": []
    },
    {
      "cell_type": "code",
      "source": [
        "def resultado_visitante(elementos = List[Tag]):\n",
        "  elemento_td= elementos.find('span', {'class': 'score', 'data-home-away': 'away', 'data-stat': 'score'})\n",
        "\n",
        "  if elemento_td is not None:\n",
        "    informacoes = [elemento.get_text(strip=True) for elemento in elemento_td]\n",
        "  else:\n",
        "     informacoes = ['nan']\n",
        "\n",
        "  return informacoes"
      ],
      "metadata": {
        "id": "FzCzlcSIL154"
      },
      "execution_count": 22,
      "outputs": []
    },
    {
      "cell_type": "markdown",
      "source": [
        "#Scraping"
      ],
      "metadata": {
        "id": "uoZQxu65dLwY"
      }
    },
    {
      "cell_type": "code",
      "source": [
        "base = 'http://www.espn.com/soccer/matchstats/_/gameId/'\n",
        "url = [base + item[0] for item in lista_csv]\n"
      ],
      "metadata": {
        "id": "_JFaDUM9dNpo"
      },
      "execution_count": 28,
      "outputs": []
    },
    {
      "cell_type": "code",
      "source": [
        "print(len(url))"
      ],
      "metadata": {
        "colab": {
          "base_uri": "https://localhost:8080/"
        },
        "id": "vlPw29nGSl55",
        "outputId": "70388d0e-974e-4d2c-fed0-9cf572e814e8"
      },
      "execution_count": 24,
      "outputs": [
        {
          "output_type": "stream",
          "name": "stdout",
          "text": [
            "7840\n"
          ]
        }
      ]
    },
    {
      "cell_type": "code",
      "source": [
        "for i in range(1,len(url)):\n",
        "  a = crawl_website(url = url[i], archive = f'{i}')\n"
      ],
      "metadata": {
        "id": "9U8QnIdZe71c"
      },
      "execution_count": 30,
      "outputs": []
    },
    {
      "cell_type": "markdown",
      "source": [
        "Não sei se é por limitaçao do colab ou algum outro erro, mas por algumas vezes  eu tentei realizar o scrapping e o crawling juntos e obtive erros, portanto vou fazer o scrapping depois penso no carling."
      ],
      "metadata": {
        "id": "1FjTIxH0i1wV"
      }
    },
    {
      "cell_type": "code",
      "source": [
        "indice = 0\n",
        "id = []\n",
        "champ = []\n",
        "times = []\n",
        "posse_bola = []\n",
        "falta_casa = []\n",
        "falta_visitante = []\n",
        "cartao_amarelo_casa = []\n",
        "cartao_amarelo_visitante = []\n",
        "cartao_vermelho_casa = []\n",
        "cartao_vermelho_visitante = []\n",
        "chute_fora_casa = []\n",
        "chute_fora_visitante = []\n",
        "escanteios_casa = []\n",
        "escanteios_visitante = []\n",
        "defesas_visitante = []\n",
        "defesas_casa = []\n",
        "resultados_casa = []\n",
        "resultados_visitante = []"
      ],
      "metadata": {
        "id": "IJLnb0Z4ed-2"
      },
      "execution_count": 31,
      "outputs": []
    },
    {
      "cell_type": "code",
      "source": [
        "for i in range(1,len(url)):\n",
        "  indice = indice+1\n",
        "\n",
        "  a = BeautifulSoup(open(f'/content/{i}.html',mode='r'),'html.parser')\n",
        "\n",
        "  id.append(indice)\n",
        "\n",
        "  ab = campeonato(elementos = a)\n",
        "  champ.append(ab)\n",
        "\n",
        "  b = times_desputando(elementos = a)\n",
        "  times.append(b)\n",
        "\n",
        "  c = posse_de_bola(elementos = a)\n",
        "  posse_bola.append(c)\n",
        "\n",
        "  d = faltas_time_casa(elementos = a)\n",
        "  falta_casa.append(d)\n",
        "\n",
        "\n",
        "  e = faltas_time_visitante(elementos = a)\n",
        "  falta_visitante.append(e)\n",
        "\n",
        "  f = cartoes_amarelos_visitante(elementos = a)\n",
        "  cartao_amarelo_casa.append(f)\n",
        "\n",
        "  g = cartoes_amarelos_visitante(elementos = a)\n",
        "  cartao_amarelo_visitante.append(g)\n",
        "\n",
        "  h = cartoes_vermelhos_casa(elementos = a)\n",
        "  cartao_vermelho_casa.append(h)\n",
        "\n",
        "\n",
        "  i = cartoes_vermelhos_visitante(elementos = a)\n",
        "  cartao_vermelho_visitante.append(i)\n",
        "\n",
        "  j = chutes_fora_casa(elementos = a)\n",
        "  chute_fora_casa.append(j)\n",
        "\n",
        "  k = chutes_fora_visitante(elementos = a)\n",
        "  chute_fora_visitante.append(k)\n",
        "\n",
        "  l = escanteio_casa(elementos = a)\n",
        "  escanteios_casa.append(l)\n",
        "\n",
        "  m = escanteio_visitante(elementos = a)\n",
        "  escanteios_visitante.append(m)\n",
        "\n",
        "  n = defesa_casa(elementos = a)\n",
        "  defesas_casa.append(n)\n",
        "\n",
        "  o = defesa_visitante(elementos = a)\n",
        "  defesas_visitante.append(o)\n",
        "\n",
        "  p = resultado_casa(elementos = a)\n",
        "  resultados_casa.append(p)\n",
        "\n",
        "  q = resultado_visitante(elementos = a)\n",
        "  resultados_visitante.append(q)\n",
        "\n",
        "  j = indice/1000\n",
        "  if j % 1 ==0:\n",
        "    print(j)\n",
        ""
      ],
      "metadata": {
        "colab": {
          "base_uri": "https://localhost:8080/"
        },
        "id": "wMZEmPODii_-",
        "outputId": "e884f6bc-a4b9-40b9-f77c-59c113677460"
      },
      "execution_count": 32,
      "outputs": [
        {
          "output_type": "stream",
          "name": "stdout",
          "text": [
            "1.0\n",
            "2.0\n",
            "3.0\n",
            "4.0\n",
            "5.0\n",
            "6.0\n",
            "7.0\n"
          ]
        }
      ]
    },
    {
      "cell_type": "code",
      "source": [
        "tem_nulo = False\n",
        "\n",
        "for sublist in posse_bola:\n",
        "    if None in sublist:\n",
        "        tem_nulo = True\n",
        "        break\n",
        "\n",
        "if tem_nulo:\n",
        "    print(\"A lista contém um valor nulo.\")\n",
        "else:\n",
        "    print(\"A lista não contém valores nulos.\")"
      ],
      "metadata": {
        "colab": {
          "base_uri": "https://localhost:8080/"
        },
        "id": "hBm_vTL8OQoF",
        "outputId": "38286305-459a-4695-ff53-cada4408e2ed"
      },
      "execution_count": 34,
      "outputs": [
        {
          "output_type": "stream",
          "name": "stdout",
          "text": [
            "A lista não contém valores nulos.\n"
          ]
        }
      ]
    },
    {
      "cell_type": "code",
      "source": [
        "colunas = ['id', 'champ', 'times', 'posse_bola', 'falta_casa', 'falta_visitante', 'cartao_amarelo_casa',\n",
        "           'cartao_amarelo_visitante', 'cartao_vermelho_casa', 'cartao_vermelho_visitante', 'chute_fora_casa',\n",
        "           'chute_fora_visitante', 'escanteios_casa', 'escanteios_visitante', 'defesas_visitante', 'defesas_casa',\n",
        "           'resultados_casa', 'resultados_visitante']\n",
        "\n",
        "# Nome do arquivo CSV de saída\n",
        "nome_arquivo = 'dados_das_partidas.csv'\n",
        "\n",
        "# Escrevendo os dados no arquivo CSV\n",
        "with open(nome_arquivo, 'w', newline='', encoding='utf8') as arquivo_csv:\n",
        "    escritor = csv.writer(arquivo_csv)\n",
        "\n",
        "    # Escrevendo os nomes das colunas\n",
        "    escritor.writerow(colunas)\n",
        "\n",
        "    # Escrevendo os dados\n",
        "    for i in range(1,5256):\n",
        "        linha_dados = [id[i], champ[i], times[i], posse_bola[i], falta_casa[i], falta_visitante[i],\n",
        "                       cartao_amarelo_casa[i], cartao_amarelo_visitante[i], cartao_vermelho_casa[i],\n",
        "                       cartao_vermelho_visitante[i], chute_fora_casa[i], chute_fora_visitante[i], escanteios_casa[i],\n",
        "                       escanteios_visitante[i], defesas_visitante[i], defesas_casa[i], resultados_casa[i],\n",
        "                       resultados_visitante[i]]\n",
        "        escritor.writerow(linha_dados)\n",
        "\n",
        "print(f'O arquivo \"{nome_arquivo}\" foi criado com sucesso.')"
      ],
      "metadata": {
        "colab": {
          "base_uri": "https://localhost:8080/"
        },
        "id": "FAfcc4oCq-Nw",
        "outputId": "274efd61-3091-4ab9-f05e-5c348353be10"
      },
      "execution_count": 35,
      "outputs": [
        {
          "output_type": "stream",
          "name": "stdout",
          "text": [
            "O arquivo \"dados_das_partidas.csv\" foi criado com sucesso.\n"
          ]
        }
      ]
    },
    {
      "cell_type": "code",
      "source": [
        "from google.colab import files\n",
        "\n",
        "nome_arquivo = 'dados_das_partidas.csv'\n",
        "\n",
        "files.download(nome_arquivo)"
      ],
      "metadata": {
        "colab": {
          "base_uri": "https://localhost:8080/",
          "height": 17
        },
        "id": "oFrRxiPPLMKy",
        "outputId": "ee70b64d-b0ba-474d-a3e3-e00ee976de71"
      },
      "execution_count": 36,
      "outputs": [
        {
          "output_type": "display_data",
          "data": {
            "text/plain": [
              "<IPython.core.display.Javascript object>"
            ],
            "application/javascript": [
              "\n",
              "    async function download(id, filename, size) {\n",
              "      if (!google.colab.kernel.accessAllowed) {\n",
              "        return;\n",
              "      }\n",
              "      const div = document.createElement('div');\n",
              "      const label = document.createElement('label');\n",
              "      label.textContent = `Downloading \"${filename}\": `;\n",
              "      div.appendChild(label);\n",
              "      const progress = document.createElement('progress');\n",
              "      progress.max = size;\n",
              "      div.appendChild(progress);\n",
              "      document.body.appendChild(div);\n",
              "\n",
              "      const buffers = [];\n",
              "      let downloaded = 0;\n",
              "\n",
              "      const channel = await google.colab.kernel.comms.open(id);\n",
              "      // Send a message to notify the kernel that we're ready.\n",
              "      channel.send({})\n",
              "\n",
              "      for await (const message of channel.messages) {\n",
              "        // Send a message to notify the kernel that we're ready.\n",
              "        channel.send({})\n",
              "        if (message.buffers) {\n",
              "          for (const buffer of message.buffers) {\n",
              "            buffers.push(buffer);\n",
              "            downloaded += buffer.byteLength;\n",
              "            progress.value = downloaded;\n",
              "          }\n",
              "        }\n",
              "      }\n",
              "      const blob = new Blob(buffers, {type: 'application/binary'});\n",
              "      const a = document.createElement('a');\n",
              "      a.href = window.URL.createObjectURL(blob);\n",
              "      a.download = filename;\n",
              "      div.appendChild(a);\n",
              "      a.click();\n",
              "      div.remove();\n",
              "    }\n",
              "  "
            ]
          },
          "metadata": {}
        },
        {
          "output_type": "display_data",
          "data": {
            "text/plain": [
              "<IPython.core.display.Javascript object>"
            ],
            "application/javascript": [
              "download(\"download_dcab0141-c923-4563-affe-693284a9dd3c\", \"dados_das_partidas.csv\", 873597)"
            ]
          },
          "metadata": {}
        }
      ]
    }
  ]
}