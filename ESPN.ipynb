{
  "nbformat": 4,
  "nbformat_minor": 0,
  "metadata": {
    "colab": {
      "provenance": [],
      "authorship_tag": "ABX9TyOMPjo3BEJVia1iDrOC1NDf",
      "include_colab_link": true
    },
    "kernelspec": {
      "name": "python3",
      "display_name": "Python 3"
    },
    "language_info": {
      "name": "python"
    }
  },
  "cells": [
    {
      "cell_type": "markdown",
      "metadata": {
        "id": "view-in-github",
        "colab_type": "text"
      },
      "source": [
        "<a href=\"https://colab.research.google.com/github/mmsiqueira98/Campeonato-Brasileiro/blob/main/ESPN.ipynb\" target=\"_parent\"><img src=\"https://colab.research.google.com/assets/colab-badge.svg\" alt=\"Open In Colab\"/></a>"
      ]
    },
    {
      "cell_type": "markdown",
      "source": [
        "#WEB SCRAPING ESPN PARA DADOS ESTATÍSTICOS FUTEBOL\n",
        "\n",
        "O objetivo é fazer o scraping do site ESPN com os dados dos times de futebol, para"
      ],
      "metadata": {
        "id": "4iggB3URc19T"
      }
    },
    {
      "cell_type": "markdown",
      "source": [
        "##Pacotes Bibliotecas e links"
      ],
      "metadata": {
        "id": "uPEJh3oodFGM"
      }
    },
    {
      "cell_type": "code",
      "source": [
        "pip install unidecode"
      ],
      "metadata": {
        "colab": {
          "base_uri": "https://localhost:8080/"
        },
        "id": "qUGHvqJkeqfZ",
        "outputId": "1d5824d4-7ac6-4646-867a-1034bd6d76ae"
      },
      "execution_count": 1,
      "outputs": [
        {
          "output_type": "stream",
          "name": "stdout",
          "text": [
            "Looking in indexes: https://pypi.org/simple, https://us-python.pkg.dev/colab-wheels/public/simple/\n",
            "Collecting unidecode\n",
            "  Downloading Unidecode-1.3.6-py3-none-any.whl (235 kB)\n",
            "\u001b[2K     \u001b[90m━━━━━━━━━━━━━━━━━━━━━━━━━━━━━━━━━━━━━━━\u001b[0m \u001b[32m235.9/235.9 kB\u001b[0m \u001b[31m5.8 MB/s\u001b[0m eta \u001b[36m0:00:00\u001b[0m\n",
            "\u001b[?25hInstalling collected packages: unidecode\n",
            "Successfully installed unidecode-1.3.6\n"
          ]
        }
      ]
    },
    {
      "cell_type": "code",
      "execution_count": 2,
      "metadata": {
        "id": "VUCL2GORc1D7"
      },
      "outputs": [],
      "source": [
        "import requests\n",
        "from bs4 import BeautifulSoup\n",
        "import csv\n",
        "from requests import HTTPError\n",
        "from xml.dom import minidom\n",
        "import pandas as pd\n",
        "from unidecode import unidecode\n",
        "import matplotlib.pyplot as plt\n",
        "import re\n",
        "from typing import List\n",
        "from bs4.element import Tag"
      ]
    },
    {
      "cell_type": "markdown",
      "source": [
        "#Scrapping\n",
        "\n",
        "Como observei na estrutura do site da ESPN, os times são categorizados pela seguinte estrutura: \n",
        "\n",
        "a = **https://www.espn.com/soccer/team/_/id/6273/gremio**\n",
        "\n",
        "b = **https://www.espn.com/soccer/team/_/id/6273**\n",
        "\n",
        "  o valor que vem depois de ID é o que eu preciso, na realidade a descrição do time, como nesse exemplo está gremio, pouco me importa. já que se eu colocar o link até o valor de 6273, serei entregue a pagina responsável pelo grêmio.\n",
        "Logo, a = b"
      ],
      "metadata": {
        "id": "sG2Ypz7MdHkA"
      }
    },
    {
      "cell_type": "markdown",
      "source": [
        "A primeira coisa que preciso fazer é definir essa função **crawl_website** que será responsável por fazer o scrapping dos sites que eu for utilizar futuramente"
      ],
      "metadata": {
        "id": "3sE8xO585NMh"
      }
    },
    {
      "cell_type": "code",
      "source": [
        "def crawl_website(url: str, archive: str) -> str: \n",
        "  try: \n",
        "    resposta = requests.get(url)\n",
        "    \n",
        "  \n",
        "  except HTTPError as exc: \n",
        "    print(exc)\n",
        "  \n",
        "  else: \n",
        "    b = resposta.text\n",
        "    soup = BeautifulSoup(b, 'html.parser')\n",
        "    with open(f'{archive}.html', 'w') as file:\n",
        "      file.write(soup.prettify())\n",
        "  \n",
        "  pagina = BeautifulSoup(open(f'{archive}.html',mode='r'),'html.parser')\n",
        "  return pagina"
      ],
      "metadata": {
        "id": "VbQ34t-Yey2D"
      },
      "execution_count": 3,
      "outputs": []
    },
    {
      "cell_type": "code",
      "source": [
        "def find_all(elementos: List[Tag], letra: str, classe: str, objeto: str):\n",
        "  elementos = elementos.find_all(letra, class_=classe)\n",
        "  lista = []\n",
        "  for elemento in elementos: \n",
        "    valor_href = elemento[objeto]\n",
        "    lista.append(valor_href)\n",
        "\n",
        "  return lista"
      ],
      "metadata": {
        "id": "aijzir9-ND55"
      },
      "execution_count": 6,
      "outputs": []
    },
    {
      "cell_type": "markdown",
      "source": [
        "Agora, a URL, onde estão as informações dos times: \n",
        "\n",
        "**https://www.espn.com/soccer/teams/_/league/bra.1**"
      ],
      "metadata": {
        "id": "4MhIs_qu68F1"
      }
    },
    {
      "cell_type": "code",
      "source": [
        "times = 'https://www.espn.com/soccer/teams/_/league/bra.1'\n",
        "id_times = crawl_website(url = times, archive = 'BrasileiraoSerieA')\n",
        "lista = find_all(elementos = id_times, letra = 'a', classe = 'AnchorLink', objeto = 'href' )\n",
        "print(lista)"
      ],
      "metadata": {
        "id": "X4DGUFz5oFk1",
        "colab": {
          "base_uri": "https://localhost:8080/"
        },
        "outputId": "5a41c48a-4ff2-42e4-b752-0fe2bad6f11f"
      },
      "execution_count": 7,
      "outputs": [
        {
          "output_type": "stream",
          "name": "stdout",
          "text": [
            "['/', '/nfl/', '/nba/', '/nhl/', '/mlb/', '/soccer/', '/college-sports/', 'http://www.espn.com', 'https://www.espn.com/espnplus/?om-navmethod=topnav', 'http://www.espn.com/watch/', 'http://www.espn.com/espnradio/index', '/fantasy/', 'http://www.espn.com', '/soccer/', '/soccer/', '/soccer/scoreboard', '/soccer/schedule', '/soccer/transfers-news-and-features/', '/soccer/teams', '/soccer/competitions', '/soccer/table/_/league/eng.1', '/soccer/team/_/id/660/united-states', '/soccer/team/_/id/2765/united-states', '#', '/soccer/team/_/id/6154/america-mg', '/soccer/team/_/id/6154/america-mg', '/soccer/team/fixtures/_/id/6154/america-mg', '/soccer/team/stats/_/id/6154/america-mg', '/soccer/team/_/id/3458/athletico-pr', '/soccer/team/_/id/3458/athletico-pr', '/soccer/team/fixtures/_/id/3458/athletico-pr', '/soccer/team/stats/_/id/3458/athletico-pr', '/soccer/team/_/id/7632/atletico-mg', '/soccer/team/_/id/7632/atletico-mg', '/soccer/team/fixtures/_/id/7632/atletico-mg', '/soccer/team/stats/_/id/7632/atletico-mg', '/soccer/team/_/id/9967/bahia', '/soccer/team/_/id/9967/bahia', '/soccer/team/fixtures/_/id/9967/bahia', '/soccer/team/stats/_/id/9967/bahia', '/soccer/team/_/id/6086/botafogo', '/soccer/team/_/id/6086/botafogo', '/soccer/team/fixtures/_/id/6086/botafogo', '/soccer/team/stats/_/id/6086/botafogo', '/soccer/team/_/id/874/corinthians', '/soccer/team/_/id/874/corinthians', '/soccer/team/fixtures/_/id/874/corinthians', '/soccer/team/stats/_/id/874/corinthians', '/soccer/team/_/id/3456/coritiba', '/soccer/team/_/id/3456/coritiba', '/soccer/team/fixtures/_/id/3456/coritiba', '/soccer/team/stats/_/id/3456/coritiba', '/soccer/team/_/id/2022/cruzeiro', '/soccer/team/_/id/2022/cruzeiro', '/soccer/team/fixtures/_/id/2022/cruzeiro', '/soccer/team/stats/_/id/2022/cruzeiro', '/soccer/team/_/id/17313/cuiaba', '/soccer/team/_/id/17313/cuiaba', '/soccer/team/fixtures/_/id/17313/cuiaba', '/soccer/team/stats/_/id/17313/cuiaba', '/soccer/team/_/id/819/flamengo', '/soccer/team/_/id/819/flamengo', '/soccer/team/fixtures/_/id/819/flamengo', '/soccer/team/stats/_/id/819/flamengo', '/soccer/team/_/id/3445/fluminense', '/soccer/team/_/id/3445/fluminense', '/soccer/team/fixtures/_/id/3445/fluminense', '/soccer/team/stats/_/id/3445/fluminense', '/soccer/team/_/id/6272/fortaleza', '/soccer/team/_/id/6272/fortaleza', '/soccer/team/fixtures/_/id/6272/fortaleza', '/soccer/team/stats/_/id/6272/fortaleza', '/soccer/team/_/id/3395/goias', '/soccer/team/_/id/3395/goias', '/soccer/team/fixtures/_/id/3395/goias', '/soccer/team/stats/_/id/3395/goias', '/soccer/team/_/id/6273/gremio', '/soccer/team/_/id/6273/gremio', '/soccer/team/fixtures/_/id/6273/gremio', '/soccer/team/stats/_/id/6273/gremio', '/soccer/team/_/id/1936/internacional', '/soccer/team/_/id/1936/internacional', '/soccer/team/fixtures/_/id/1936/internacional', '/soccer/team/stats/_/id/1936/internacional', '/soccer/team/_/id/2029/palmeiras', '/soccer/team/_/id/2029/palmeiras', '/soccer/team/fixtures/_/id/2029/palmeiras', '/soccer/team/stats/_/id/2029/palmeiras', '/soccer/team/_/id/6079/red-bull-bragantino', '/soccer/team/_/id/6079/red-bull-bragantino', '/soccer/team/fixtures/_/id/6079/red-bull-bragantino', '/soccer/team/stats/_/id/6079/red-bull-bragantino', '/soccer/team/_/id/2674/santos', '/soccer/team/_/id/2674/santos', '/soccer/team/fixtures/_/id/2674/santos', '/soccer/team/stats/_/id/2674/santos', '/soccer/team/_/id/2026/sao-paulo', '/soccer/team/_/id/2026/sao-paulo', '/soccer/team/fixtures/_/id/2026/sao-paulo', '/soccer/team/stats/_/id/2026/sao-paulo', '/soccer/team/_/id/3454/vasco-da-gama', '/soccer/team/_/id/3454/vasco-da-gama', '/soccer/team/fixtures/_/id/3454/vasco-da-gama', '/soccer/team/stats/_/id/3454/vasco-da-gama', '/soccer/story/_/id/37638724/rapids-suspends-max-alves-amid-betting-probe-source', '/soccer/story/_/id/37638720/brazil-prosecutors-charge-16-alleged-soccer-match-fixing-scheme', '/soccer/story/_/id/37638570/botafogo-one-brazil-most-historic-clubs-back-top-why-fans-upset', '/soccer/story/_/id/37638332/cuca-steps-corinthians-boss-one-week-amid-fan-outrage-1987-conviction', '/soccer/story/_/id/37638277/corinthians-women-protest-not-convicted-coach-cuca-manager', '#', 'https://disneytermsofuse.com/', 'https://privacy.thewaltdisneycompany.com/en/current-privacy-policy/', 'http://preferences-mgr.truste.com/?type=espn&affiliateId=148']\n"
          ]
        }
      ]
    },
    {
      "cell_type": "code",
      "source": [
        "elementos = id_times.find_all('a', class_='AnchorLink')\n",
        "lista = []\n",
        "for elemento in elementos: \n",
        "  valor_href = elemento['href']\n",
        "  lista.append(valor_href)\n",
        "\n",
        "print(lista)"
      ],
      "metadata": {
        "colab": {
          "base_uri": "https://localhost:8080/"
        },
        "id": "MAjE9UPMrHb2",
        "outputId": "91bdda3b-6050-4d34-b85b-dfb097a6337c"
      },
      "execution_count": 8,
      "outputs": [
        {
          "output_type": "stream",
          "name": "stdout",
          "text": [
            "['/', '/nfl/', '/nba/', '/nhl/', '/mlb/', '/soccer/', '/college-sports/', 'http://www.espn.com', 'https://www.espn.com/espnplus/?om-navmethod=topnav', 'http://www.espn.com/watch/', 'http://www.espn.com/espnradio/index', '/fantasy/', 'http://www.espn.com', '/soccer/', '/soccer/', '/soccer/scoreboard', '/soccer/schedule', '/soccer/transfers-news-and-features/', '/soccer/teams', '/soccer/competitions', '/soccer/table/_/league/eng.1', '/soccer/team/_/id/660/united-states', '/soccer/team/_/id/2765/united-states', '#', '/soccer/team/_/id/6154/america-mg', '/soccer/team/_/id/6154/america-mg', '/soccer/team/fixtures/_/id/6154/america-mg', '/soccer/team/stats/_/id/6154/america-mg', '/soccer/team/_/id/3458/athletico-pr', '/soccer/team/_/id/3458/athletico-pr', '/soccer/team/fixtures/_/id/3458/athletico-pr', '/soccer/team/stats/_/id/3458/athletico-pr', '/soccer/team/_/id/7632/atletico-mg', '/soccer/team/_/id/7632/atletico-mg', '/soccer/team/fixtures/_/id/7632/atletico-mg', '/soccer/team/stats/_/id/7632/atletico-mg', '/soccer/team/_/id/9967/bahia', '/soccer/team/_/id/9967/bahia', '/soccer/team/fixtures/_/id/9967/bahia', '/soccer/team/stats/_/id/9967/bahia', '/soccer/team/_/id/6086/botafogo', '/soccer/team/_/id/6086/botafogo', '/soccer/team/fixtures/_/id/6086/botafogo', '/soccer/team/stats/_/id/6086/botafogo', '/soccer/team/_/id/874/corinthians', '/soccer/team/_/id/874/corinthians', '/soccer/team/fixtures/_/id/874/corinthians', '/soccer/team/stats/_/id/874/corinthians', '/soccer/team/_/id/3456/coritiba', '/soccer/team/_/id/3456/coritiba', '/soccer/team/fixtures/_/id/3456/coritiba', '/soccer/team/stats/_/id/3456/coritiba', '/soccer/team/_/id/2022/cruzeiro', '/soccer/team/_/id/2022/cruzeiro', '/soccer/team/fixtures/_/id/2022/cruzeiro', '/soccer/team/stats/_/id/2022/cruzeiro', '/soccer/team/_/id/17313/cuiaba', '/soccer/team/_/id/17313/cuiaba', '/soccer/team/fixtures/_/id/17313/cuiaba', '/soccer/team/stats/_/id/17313/cuiaba', '/soccer/team/_/id/819/flamengo', '/soccer/team/_/id/819/flamengo', '/soccer/team/fixtures/_/id/819/flamengo', '/soccer/team/stats/_/id/819/flamengo', '/soccer/team/_/id/3445/fluminense', '/soccer/team/_/id/3445/fluminense', '/soccer/team/fixtures/_/id/3445/fluminense', '/soccer/team/stats/_/id/3445/fluminense', '/soccer/team/_/id/6272/fortaleza', '/soccer/team/_/id/6272/fortaleza', '/soccer/team/fixtures/_/id/6272/fortaleza', '/soccer/team/stats/_/id/6272/fortaleza', '/soccer/team/_/id/3395/goias', '/soccer/team/_/id/3395/goias', '/soccer/team/fixtures/_/id/3395/goias', '/soccer/team/stats/_/id/3395/goias', '/soccer/team/_/id/6273/gremio', '/soccer/team/_/id/6273/gremio', '/soccer/team/fixtures/_/id/6273/gremio', '/soccer/team/stats/_/id/6273/gremio', '/soccer/team/_/id/1936/internacional', '/soccer/team/_/id/1936/internacional', '/soccer/team/fixtures/_/id/1936/internacional', '/soccer/team/stats/_/id/1936/internacional', '/soccer/team/_/id/2029/palmeiras', '/soccer/team/_/id/2029/palmeiras', '/soccer/team/fixtures/_/id/2029/palmeiras', '/soccer/team/stats/_/id/2029/palmeiras', '/soccer/team/_/id/6079/red-bull-bragantino', '/soccer/team/_/id/6079/red-bull-bragantino', '/soccer/team/fixtures/_/id/6079/red-bull-bragantino', '/soccer/team/stats/_/id/6079/red-bull-bragantino', '/soccer/team/_/id/2674/santos', '/soccer/team/_/id/2674/santos', '/soccer/team/fixtures/_/id/2674/santos', '/soccer/team/stats/_/id/2674/santos', '/soccer/team/_/id/2026/sao-paulo', '/soccer/team/_/id/2026/sao-paulo', '/soccer/team/fixtures/_/id/2026/sao-paulo', '/soccer/team/stats/_/id/2026/sao-paulo', '/soccer/team/_/id/3454/vasco-da-gama', '/soccer/team/_/id/3454/vasco-da-gama', '/soccer/team/fixtures/_/id/3454/vasco-da-gama', '/soccer/team/stats/_/id/3454/vasco-da-gama', '/soccer/story/_/id/37638724/rapids-suspends-max-alves-amid-betting-probe-source', '/soccer/story/_/id/37638720/brazil-prosecutors-charge-16-alleged-soccer-match-fixing-scheme', '/soccer/story/_/id/37638570/botafogo-one-brazil-most-historic-clubs-back-top-why-fans-upset', '/soccer/story/_/id/37638332/cuca-steps-corinthians-boss-one-week-amid-fan-outrage-1987-conviction', '/soccer/story/_/id/37638277/corinthians-women-protest-not-convicted-coach-cuca-manager', '#', 'https://disneytermsofuse.com/', 'https://privacy.thewaltdisneycompany.com/en/current-privacy-policy/', 'http://preferences-mgr.truste.com/?type=espn&affiliateId=148']\n"
          ]
        }
      ]
    },
    {
      "cell_type": "markdown",
      "source": [
        "Agora, eu preciso separar o soccer/team, excluir isso e juntar o resultado em uma lista, sem que haja repetições."
      ],
      "metadata": {
        "id": "oJudttw89fg2"
      }
    },
    {
      "cell_type": "code",
      "source": [
        "padrao = re.compile(r'/soccer/team/stats/_/id/(.*)')\n",
        "valores_filtrados = []\n",
        "\n",
        "for valor in lista: \n",
        "  resultado = padrao.search(valor)\n",
        "  if resultado: \n",
        "    informacoes = resultado.group(1)\n",
        "    valores_filtrados.append(informacoes)\n",
        "  \n",
        "id_partida = list(set(valores_filtrados))\n",
        "times = [valor.split('/') for valor in valores_filtrados]\n",
        "\n",
        "time = []\n",
        "id = []\n",
        "\n",
        "for i in times: \n",
        "  time.append(i[1])\n",
        "  id.append(i[0])\n",
        "\n",
        "print(time)\n",
        "print(id)"
      ],
      "metadata": {
        "colab": {
          "base_uri": "https://localhost:8080/"
        },
        "id": "k112ic4AuY8I",
        "outputId": "e5985278-db2c-4a7d-9621-74b4f35cf907"
      },
      "execution_count": 9,
      "outputs": [
        {
          "output_type": "stream",
          "name": "stdout",
          "text": [
            "['america-mg', 'athletico-pr', 'atletico-mg', 'bahia', 'botafogo', 'corinthians', 'coritiba', 'cruzeiro', 'cuiaba', 'flamengo', 'fluminense', 'fortaleza', 'goias', 'gremio', 'internacional', 'palmeiras', 'red-bull-bragantino', 'santos', 'sao-paulo', 'vasco-da-gama']\n",
            "['6154', '3458', '7632', '9967', '6086', '874', '3456', '2022', '17313', '819', '3445', '6272', '3395', '6273', '1936', '2029', '6079', '2674', '2026', '3454']\n"
          ]
        }
      ]
    },
    {
      "cell_type": "code",
      "source": [
        "year = ['2017', '2018', '2019', '2020', '2021', '2022']\n",
        "time = []\n",
        "id = []\n",
        "\n",
        "for i in times: \n",
        "  time.append(i[1])\n",
        "  id.append(i[0])\n",
        "\n",
        "print(time)\n",
        "print(id)"
      ],
      "metadata": {
        "colab": {
          "base_uri": "https://localhost:8080/"
        },
        "id": "UF0Ofu9NaVdG",
        "outputId": "bfe56889-612f-474c-be6d-502978ed18d9"
      },
      "execution_count": 10,
      "outputs": [
        {
          "output_type": "stream",
          "name": "stdout",
          "text": [
            "['america-mg', 'athletico-pr', 'atletico-mg', 'bahia', 'botafogo', 'corinthians', 'coritiba', 'cruzeiro', 'cuiaba', 'flamengo', 'fluminense', 'fortaleza', 'goias', 'gremio', 'internacional', 'palmeiras', 'red-bull-bragantino', 'santos', 'sao-paulo', 'vasco-da-gama']\n",
            "['6154', '3458', '7632', '9967', '6086', '874', '3456', '2022', '17313', '819', '3445', '6272', '3395', '6273', '1936', '2029', '6079', '2674', '2026', '3454']\n"
          ]
        }
      ]
    },
    {
      "cell_type": "markdown",
      "source": [
        "Ótimo, esse resultado é tudo o que eu preciso para esse momento."
      ],
      "metadata": {
        "id": "080eKHsStBrT"
      }
    },
    {
      "cell_type": "markdown",
      "source": [
        "Agora vamos criar a variável link."
      ],
      "metadata": {
        "id": "qph-P1rfoB3i"
      }
    },
    {
      "cell_type": "code",
      "source": [
        "link = []\n",
        "\n",
        "for i in id: \n",
        "  for j in year: \n",
        "    a = f'https://www.espn.com/soccer/team/results/_/id/{i}/season/{j}'\n",
        "    link.append(a)\n",
        "\n",
        "print(link)"
      ],
      "metadata": {
        "colab": {
          "base_uri": "https://localhost:8080/"
        },
        "id": "sN2LIeNMoEAC",
        "outputId": "30b241fa-322e-4cd6-ec95-1633a907c7c9"
      },
      "execution_count": 11,
      "outputs": [
        {
          "output_type": "stream",
          "name": "stdout",
          "text": [
            "['https://www.espn.com/soccer/team/results/_/id/6154/season/2017', 'https://www.espn.com/soccer/team/results/_/id/6154/season/2018', 'https://www.espn.com/soccer/team/results/_/id/6154/season/2019', 'https://www.espn.com/soccer/team/results/_/id/6154/season/2020', 'https://www.espn.com/soccer/team/results/_/id/6154/season/2021', 'https://www.espn.com/soccer/team/results/_/id/6154/season/2022', 'https://www.espn.com/soccer/team/results/_/id/3458/season/2017', 'https://www.espn.com/soccer/team/results/_/id/3458/season/2018', 'https://www.espn.com/soccer/team/results/_/id/3458/season/2019', 'https://www.espn.com/soccer/team/results/_/id/3458/season/2020', 'https://www.espn.com/soccer/team/results/_/id/3458/season/2021', 'https://www.espn.com/soccer/team/results/_/id/3458/season/2022', 'https://www.espn.com/soccer/team/results/_/id/7632/season/2017', 'https://www.espn.com/soccer/team/results/_/id/7632/season/2018', 'https://www.espn.com/soccer/team/results/_/id/7632/season/2019', 'https://www.espn.com/soccer/team/results/_/id/7632/season/2020', 'https://www.espn.com/soccer/team/results/_/id/7632/season/2021', 'https://www.espn.com/soccer/team/results/_/id/7632/season/2022', 'https://www.espn.com/soccer/team/results/_/id/9967/season/2017', 'https://www.espn.com/soccer/team/results/_/id/9967/season/2018', 'https://www.espn.com/soccer/team/results/_/id/9967/season/2019', 'https://www.espn.com/soccer/team/results/_/id/9967/season/2020', 'https://www.espn.com/soccer/team/results/_/id/9967/season/2021', 'https://www.espn.com/soccer/team/results/_/id/9967/season/2022', 'https://www.espn.com/soccer/team/results/_/id/6086/season/2017', 'https://www.espn.com/soccer/team/results/_/id/6086/season/2018', 'https://www.espn.com/soccer/team/results/_/id/6086/season/2019', 'https://www.espn.com/soccer/team/results/_/id/6086/season/2020', 'https://www.espn.com/soccer/team/results/_/id/6086/season/2021', 'https://www.espn.com/soccer/team/results/_/id/6086/season/2022', 'https://www.espn.com/soccer/team/results/_/id/874/season/2017', 'https://www.espn.com/soccer/team/results/_/id/874/season/2018', 'https://www.espn.com/soccer/team/results/_/id/874/season/2019', 'https://www.espn.com/soccer/team/results/_/id/874/season/2020', 'https://www.espn.com/soccer/team/results/_/id/874/season/2021', 'https://www.espn.com/soccer/team/results/_/id/874/season/2022', 'https://www.espn.com/soccer/team/results/_/id/3456/season/2017', 'https://www.espn.com/soccer/team/results/_/id/3456/season/2018', 'https://www.espn.com/soccer/team/results/_/id/3456/season/2019', 'https://www.espn.com/soccer/team/results/_/id/3456/season/2020', 'https://www.espn.com/soccer/team/results/_/id/3456/season/2021', 'https://www.espn.com/soccer/team/results/_/id/3456/season/2022', 'https://www.espn.com/soccer/team/results/_/id/2022/season/2017', 'https://www.espn.com/soccer/team/results/_/id/2022/season/2018', 'https://www.espn.com/soccer/team/results/_/id/2022/season/2019', 'https://www.espn.com/soccer/team/results/_/id/2022/season/2020', 'https://www.espn.com/soccer/team/results/_/id/2022/season/2021', 'https://www.espn.com/soccer/team/results/_/id/2022/season/2022', 'https://www.espn.com/soccer/team/results/_/id/17313/season/2017', 'https://www.espn.com/soccer/team/results/_/id/17313/season/2018', 'https://www.espn.com/soccer/team/results/_/id/17313/season/2019', 'https://www.espn.com/soccer/team/results/_/id/17313/season/2020', 'https://www.espn.com/soccer/team/results/_/id/17313/season/2021', 'https://www.espn.com/soccer/team/results/_/id/17313/season/2022', 'https://www.espn.com/soccer/team/results/_/id/819/season/2017', 'https://www.espn.com/soccer/team/results/_/id/819/season/2018', 'https://www.espn.com/soccer/team/results/_/id/819/season/2019', 'https://www.espn.com/soccer/team/results/_/id/819/season/2020', 'https://www.espn.com/soccer/team/results/_/id/819/season/2021', 'https://www.espn.com/soccer/team/results/_/id/819/season/2022', 'https://www.espn.com/soccer/team/results/_/id/3445/season/2017', 'https://www.espn.com/soccer/team/results/_/id/3445/season/2018', 'https://www.espn.com/soccer/team/results/_/id/3445/season/2019', 'https://www.espn.com/soccer/team/results/_/id/3445/season/2020', 'https://www.espn.com/soccer/team/results/_/id/3445/season/2021', 'https://www.espn.com/soccer/team/results/_/id/3445/season/2022', 'https://www.espn.com/soccer/team/results/_/id/6272/season/2017', 'https://www.espn.com/soccer/team/results/_/id/6272/season/2018', 'https://www.espn.com/soccer/team/results/_/id/6272/season/2019', 'https://www.espn.com/soccer/team/results/_/id/6272/season/2020', 'https://www.espn.com/soccer/team/results/_/id/6272/season/2021', 'https://www.espn.com/soccer/team/results/_/id/6272/season/2022', 'https://www.espn.com/soccer/team/results/_/id/3395/season/2017', 'https://www.espn.com/soccer/team/results/_/id/3395/season/2018', 'https://www.espn.com/soccer/team/results/_/id/3395/season/2019', 'https://www.espn.com/soccer/team/results/_/id/3395/season/2020', 'https://www.espn.com/soccer/team/results/_/id/3395/season/2021', 'https://www.espn.com/soccer/team/results/_/id/3395/season/2022', 'https://www.espn.com/soccer/team/results/_/id/6273/season/2017', 'https://www.espn.com/soccer/team/results/_/id/6273/season/2018', 'https://www.espn.com/soccer/team/results/_/id/6273/season/2019', 'https://www.espn.com/soccer/team/results/_/id/6273/season/2020', 'https://www.espn.com/soccer/team/results/_/id/6273/season/2021', 'https://www.espn.com/soccer/team/results/_/id/6273/season/2022', 'https://www.espn.com/soccer/team/results/_/id/1936/season/2017', 'https://www.espn.com/soccer/team/results/_/id/1936/season/2018', 'https://www.espn.com/soccer/team/results/_/id/1936/season/2019', 'https://www.espn.com/soccer/team/results/_/id/1936/season/2020', 'https://www.espn.com/soccer/team/results/_/id/1936/season/2021', 'https://www.espn.com/soccer/team/results/_/id/1936/season/2022', 'https://www.espn.com/soccer/team/results/_/id/2029/season/2017', 'https://www.espn.com/soccer/team/results/_/id/2029/season/2018', 'https://www.espn.com/soccer/team/results/_/id/2029/season/2019', 'https://www.espn.com/soccer/team/results/_/id/2029/season/2020', 'https://www.espn.com/soccer/team/results/_/id/2029/season/2021', 'https://www.espn.com/soccer/team/results/_/id/2029/season/2022', 'https://www.espn.com/soccer/team/results/_/id/6079/season/2017', 'https://www.espn.com/soccer/team/results/_/id/6079/season/2018', 'https://www.espn.com/soccer/team/results/_/id/6079/season/2019', 'https://www.espn.com/soccer/team/results/_/id/6079/season/2020', 'https://www.espn.com/soccer/team/results/_/id/6079/season/2021', 'https://www.espn.com/soccer/team/results/_/id/6079/season/2022', 'https://www.espn.com/soccer/team/results/_/id/2674/season/2017', 'https://www.espn.com/soccer/team/results/_/id/2674/season/2018', 'https://www.espn.com/soccer/team/results/_/id/2674/season/2019', 'https://www.espn.com/soccer/team/results/_/id/2674/season/2020', 'https://www.espn.com/soccer/team/results/_/id/2674/season/2021', 'https://www.espn.com/soccer/team/results/_/id/2674/season/2022', 'https://www.espn.com/soccer/team/results/_/id/2026/season/2017', 'https://www.espn.com/soccer/team/results/_/id/2026/season/2018', 'https://www.espn.com/soccer/team/results/_/id/2026/season/2019', 'https://www.espn.com/soccer/team/results/_/id/2026/season/2020', 'https://www.espn.com/soccer/team/results/_/id/2026/season/2021', 'https://www.espn.com/soccer/team/results/_/id/2026/season/2022', 'https://www.espn.com/soccer/team/results/_/id/3454/season/2017', 'https://www.espn.com/soccer/team/results/_/id/3454/season/2018', 'https://www.espn.com/soccer/team/results/_/id/3454/season/2019', 'https://www.espn.com/soccer/team/results/_/id/3454/season/2020', 'https://www.espn.com/soccer/team/results/_/id/3454/season/2021', 'https://www.espn.com/soccer/team/results/_/id/3454/season/2022']\n"
          ]
        }
      ]
    },
    {
      "cell_type": "markdown",
      "source": [
        "Por qual motivo eu fiz isso? \n",
        "\n",
        "Bom, com o id do time que está no brasileirão da série A, agora eu posso ir até esse domínio do site: \n",
        "\n",
        "**https://www.espn.com/soccer/team/results/_/id/{id}/season/{year}**\n",
        "\n",
        "onde\n",
        "\n",
        "**id = id do time**\n",
        "\n",
        "e \n",
        "\n",
        "**year = ano do time**\n",
        "\n",
        "O objetivo é rastrear os jogos de cada time de 2017 até 2022. Mas primeiro, iremos realizar o crawling de todos os dados do site que estão correspondendo aos valores relativos a link.\n",
        "\n"
      ],
      "metadata": {
        "id": "yClzA3dq-z1p"
      }
    },
    {
      "cell_type": "code",
      "source": [
        "id_times = []\n",
        "a = 0\n",
        "for i in link: \n",
        "  a+=1\n",
        "  partidas = crawl_website(url = i, archive = f'{a}')"
      ],
      "metadata": {
        "id": "vApqsi-fjnu4"
      },
      "execution_count": 12,
      "outputs": []
    },
    {
      "cell_type": "markdown",
      "source": [
        "Feito isso, Temos agora todos os scraping dos sites com os times nos torneios de 2017 até o momento, considerando apenas aqueles que estão na Série A nesse campeonato. Nesses respectivos crawlings realizados nos temos uma informação muito importante conforme está mostrada nesse link: \n",
        "\n",
        "'https://www.espn.com/soccer/matchstats/_/gameId/{informação_desejada}'\n",
        "\n",
        "Essa informação é o GameId, onde contém o resultado de uma partida de futebol entre dois times, o seu resultado e também, em algumas partidas, as estatísticas durante as partidas de futebol, que é o nosso grande objetivo com esse trabalho."
      ],
      "metadata": {
        "id": "hUO00lBz88YH"
      }
    },
    {
      "cell_type": "markdown",
      "source": [
        "##Realizando o Web Scrapping dos dados obtidos\n",
        "\n",
        "Como foi observado anteriormente, os dados foram enumerados de 0 a n, onde 0 é o primeiro crawling e n é o último. Para sabermos qual é o número de crawling's feitos precisamos apenas ver a quantidade links que tem. Sabendo que são 120 então nos temos 0.html a 119.html. Precisamos realizar o scrapping desses dados temo como alvo: \n",
        "\n",
        " /soccer/matchstats/_/gameId/(Informação_desejada)"
      ],
      "metadata": {
        "id": "In7bb1qi_0Db"
      }
    },
    {
      "cell_type": "code",
      "source": [
        "partidas = []\n",
        "for a in range(1, 120): \n",
        "  pagina = BeautifulSoup(open(f'/content/{a}.html',mode='r'),'html.parser')\n",
        "\n",
        "  b = find_all(elementos=pagina, letra='a', classe = 'AnchorLink', objeto = 'href')\n",
        "  padrao = re.compile(r'/gameId/(\\d+)')\n",
        "  valores_filtrados = []\n",
        "\n",
        "  for valor in b: \n",
        "    resultado = padrao.search(valor)\n",
        "    if resultado: \n",
        "      informacoes = resultado.group(1)\n",
        "      valores_filtrados.append(informacoes)\n",
        "      partidas.append(informacoes)\n"
      ],
      "metadata": {
        "colab": {
          "base_uri": "https://localhost:8080/"
        },
        "id": "isWMylurjnRv",
        "outputId": "2f90d951-ff46-4377-89d3-6a370732066f"
      },
      "execution_count": 25,
      "outputs": [
        {
          "output_type": "stream",
          "name": "stdout",
          "text": [
            "14154\n"
          ]
        }
      ]
    },
    {
      "cell_type": "markdown",
      "source": [
        "Vamos avaliar a quantidade de dados."
      ],
      "metadata": {
        "id": "7di5Zm-1EbTS"
      }
    },
    {
      "cell_type": "code",
      "source": [
        "partidas_unicas = list(set(partidas))\n",
        "print(len(partidas_unicas)) \n",
        "print(partidas_unicas)"
      ],
      "metadata": {
        "colab": {
          "base_uri": "https://localhost:8080/"
        },
        "id": "aq54PdsaftqJ",
        "outputId": "29cb2abe-aea2-4521-c157-5260739486cd"
      },
      "execution_count": 27,
      "outputs": [
        {
          "output_type": "stream",
          "name": "stdout",
          "text": [
            "5255\n",
            "['538297', '511455', '538397', '560148', '538230', '529345', '569775', '631074', '537645', '508278', '528603', '537847', '598754', '529220', '570420', '630999', '538336', '622391', '598536', '530672', '538365', '538114', '598424', '507272', '468964', '476072', '537589', '598569', '568621', '538027', '627227', '631406', '475306', '475953', '631185', '537713', '476122', '530752', '491845', '631368', '475325', '475268', '569875', '598404', '557725', '631320', '598511', '507547', '598597', '598650', '601713', '569910', '631032', '507476', '538021', '631122', '596371', '539189', '538190', '503447', '538319', '560155', '631055', '633495', '532979', '469441', '507781', '469395', '506987', '569689', '476150', '633622', '587494', '569715', '600905', '503448', '470325', '540076', '631037', '506998', '622203', '470381', '600823', '498999', '506958', '592313', '476170', '492110', '476204', '538097', '478705', '508275', '475451', '622400', '598281', '539334', '569624', '529368', '622647', '530691', '529301', '591414', '507351', '619895', '477963', '570159', '588123', '598460', '538205', '569663', '538088', '630937', '560144', '569906', '652197', '569885', '529307', '507147', '539191', '475091', '603160', '499017', '475950', '509341', '598409', '537069', '633754', '528654', '561259', '506925', '631076', '622396', '509845', '476220', '598466', '529275', '631039', '593914', '507034', '476286', '476148', '591409', '520831', '498983', '470302', '631095', '572817', '507226', '538094', '569952', '507090', '622386', '507546', '598339', '507103', '473487', '507418', '526325', '507080', '528284', '469053', '507791', '507101', '538023', '470352', '476279', '591297', '475926', '478304', '598366', '509732', '476096', '469442', '598432', '476067', '569641', '560098', '538104', '478079', '630920', '630885', '598261', '569626', '622359', '538115', '538315', '470414', '507250', '591468', '622258', '469419', '476261', '565292', '592354', '622393', '598382', '598386', '570238', '503417', '498976', '478321', '471139', '538231', '503489', '569690', '470409', '507223', '497557', '473901', '570158', '537785', '569865', '507043', '598622', '528636', '631324', '591387', '631084', '538357', '469413', '530772', '561258', '507228', '476068', '507268', '477913', '598264', '591404', '592913', '479559', '569904', '630769', '538185', '631494', '630953', '537842', '569725', '476291', '492118', '528755', '598445', '569842', '528696', '538207', '592328', '499108', '506976', '630906', '478066', '520826', '538024', '633627', '475275', '569633', '538229', '631065', '476223', '526324', '537515', '469062', '570287', '507053', '528717', '507001', '498988', '631089', '569929', '475364', '538343', '537700', '537674', '538183', '561234', '540083', '622276', '602747', '469051', '481995', '476087', '507079', '507088', '631165', '631241', '538127', '478067', '559614', '501065', '475277', '538356', '560269', '554832', '506959', '631504', '559583', '473450', '500930', '507816', '507878', '499202', '528621', '468900', '476046', '507249', '468901', '598818', '633751', '561218', '537548', '560267', '470417', '615669', '631012', '569987', '503431', '476163', '568650', '518198', '475146', '636186', '539101', '506981', '599707', '560266', '630964', '511422', '538237', '479558', '598973', '538268', '630927', '507624', '632719', '602627', '507068', '569956', '476037', '474993', '476019', '630968', '633493', '507159', '528720', '650110', '476153', '570349', '600273', '598804', '631514', '469410', '598374', '507208', '569677', '569949', '622231', '631260', '538238', '569923', '475964', '569700', '507135', '600816', '476298', '598461', '529326', '503484', '622188', '633540', '560253', '507277', '565317', '560168', '538300', '538228', '540064', '598274', '507201', '538248', '630836', '538208', '507038', '509332', '479552', '532775', '598455', '631121', '569746', '541445', '539337', '633731', '633728', '507216', '476302', '540062', '628630', '509338', '507480', '598526', '631505', '528333', '540077', '530794', '561192', '529140', '561221', '589239', '499045', '601692', '475936', '529256', '538305', '507029', '475293', '506938', '538121', '569859', '503430', '476215', '567432', '630827', '598730', '631138', '507278', '501080', '598565', '598302', '526015', '469039', '476005', '631124', '630773', '476246', '476069', '569816', '538355', '592316', '565784', '538076', '598950', '507218', '499018', '622234', '500957', '585743', '598423', '476139', '476277', '569749', '511425', '509802', '499213', '598558', '622275', '560242', '598828', '568625', '569719', '568536', '569706', '630829', '476230', '506968', '538182', '476107', '475245', '631064', '478714', '506931', '630813', '630987', '507102', '622295', '507099', '598791', '598459', '538106', '598580', '598304', '538329', '476084', '540115', '631035', '603147', '598780', '598269', '476240', '468765', '528641', '622353', '565781', '470378', '474976', '633642', '468761', '598813', '538148', '538056', '570273', '647694', '569625', '507182', '631359', '475311', '476028', '630798', '630945', '528745', '622643', '630882', '520828', '507243', '569630', '476239', '592347', '591313', '631016', '475107', '590001', '506930', '528292', '537631', '507851', '633591', '507184', '532977', '596487', '587495', '598398', '591303', '525142', '570177', '600562', '538216', '633722', '507306', '591476', '507061', '468730', '468957', '557644', '537835', '526514', '633665', '539931', '569668', '561194', '569880', '528733', '475415', '600838', '630811', '506933', '476058', '575933', '538178', '497128', '528307', '631453', '598898', '600836', '570297', '507127', '537570', '473897', '622646', '591458', '594976', '538327', '591452', '598573', '600885', '507211', '476128', '585750', '569664', '538986', '595001', '631096', '631274', '507320', '622650', '474991', '468941', '526323', '510158', '569960', '630926', '475111', '506971', '503437', '596366', '606645', '569759', '476187', '622389', '538243', '631194', '478133', '474809', '569805', '636183', '630862', '507355', '510156', '506920', '569807', '500329', '595130', '477997', '591442', '598872', '537587', '478709', '476053', '569618', '537728', '475135', '570135', '598512', '598929', '606650', '507787', '601684', '569647', '507197', '630828', '475379', '500990', '622924', '622194', '501017', '475929', '569854', '630821', '569938', '631086', '538310', '538309', '499023', '600857', '622631', '633689', '598230', '478046', '598807', '475382', '507526', '598790', '539039', '537775', '530744', '572284', '598370', '598694', '529323', '468942', '631393', '598595', '539005', '507261', '538086', '587529', '507823', '601673', '591257', '630929', '507008', '598393', '529309', '569676', '538103', '569628', '496652', '598865', '587526', '560273', '630971', '476251', '598436', '633758', '618629', '507174', '476296', '468718', '570312', '631027', '560229', '476162', '570178', '598564', '598643', '598305', '475086', '469439', '598756', '631201', '631481', '570106', '538133', '538366', '538113', '507115', '569646', '619897', '476249', '630972', '631307', '622270', '507054', '598604', '630962', '528736', '575017', '569972', '598887', '538102', '520825', '499204', '528625', '598555', '529362', '570168', '476038', '539335', '633639', '598668', '630838', '507225', '631181', '537529', '598355', '569785', '498974', '569864', '598935', '507086', '474986', '507189', '601691', '598970', '471146', '507665', '507209', '598256', '476259', '569893', '633529', '529347', '507187', '633753', '569900', '530809', '538988', '507207', '569670', '598227', '499054', '600871', '507368', '631044', '507116', '537484', '569883', '537614', '630917', '475969', '538035', '632962', '600923', '479555', '633601', '503424', '527519', '507235', '476082', '476275', '476151', '507077', '475957', '631123', '598534', '631457', '654093', '569610', '631295', '507011', '501000', '622349', '529249', '633742', '598852', '507761', '475989', '561270', '598444', '537477', '630858', '507502', '622182', '630765', '598343', '631108', '569702', '598579', '560133', '603150', '569891', '528611', '475179', '631258', '631031', '569858', '594956', '507645', '506984', '622344', '538137', '507117', '630942', '598353', '575673', '560157', '622680', '469401', '537832', '630912', '598879', '600978', '500955', '476126', '569678', '631432', '588121', '498714', '630851', '476225', '591432', '538186', '647686', '603167', '477975', '499083', '592309', '569773', '475940', '561245', '478011', '476256', '622217', '507220', '631069', '506953', '538107', '598858', '598278', '507540', '633382', '569873', '509857', '541442', '473485', '538289', '529281', '598909', '598499', '630793', '622204', '538210', '569965', '511450', '538244', '570148', '537687', '560181', '499053', '598381', '598408', '598477', '591470', '570227', '507555', '598942', '569638', '630961', '636897', '538577', '475188', '569774', '569918', '507017', '538239', '537726', '478302', '507557', '476054', '601853', '631067', '476076', '598748', '592312', '569857', '538344', '539921', '475401', '569766', '595007', '538578', '598508', '507176', '507636', '528633', '647684', '596638', '633549', '569969', '538187', '537808', '633730', '569815', '569837', '561278', '474808', '538252', '565309', '506947', '557728', '539095', '630802', '598421', '476292', '476271', '560212', '476047', '506999', '475951', '598519', '591457', '469037', '468886', '537830', '537791', '538217', '565311', '633589', '540107', '585747', '570235', '600818', '591275', '598383', '507516', '538168', '476040', '615683', '507359', '561241', '507248', '469047', '501081', '570134', '507140', '598331', '507568', '476208', '570386', '633633', '631304', '561179', '598419', '622367', '507346', '478012', '598557', '500333', '598981', '469407', '503487', '507014', '570427', '501046', '633548', '528291', '503422', '630976', '470336', '633557', '537787', '598451', '618591', '475304', '507841', '507039', '537685', '630970', '569833', '569790', '476179', '594746', '598743', '569616', '476059', '538328', '569643', '503464', '470397', '476265', '569811', '479553', '528770', '476031', '468945', '631078', '569707', '570445', '622398', '601706', '633727', '476175', '507096', '507016', '630969', '615677', '469044', '598334', '600862', '473854', '537088', '633729', '538071', '598658', '506961', '541443', '511444', '631264', '493700', '538057', '538112', '507862', '475419', '468971', '569982', '538374', '570079', '630899', '631483', '598293', '596367', '569936', '630883', '631080', '493699', '507160', '598729', '591417', '507314', '540119', '598338', '569721', '598225', '475944', '591281', '538377', '598494', '532786', '598282', '540106', '470372', '478738', '600845', '508271', '560150', '633617', '569648', '598308', '569921', '468958', '507646', '538108', '501082', '538323', '598681', '537768', '598751', '507199', '499099', '468947', '569796', '618278', '511432', '475395', '570343', '537072', '630806', '631235', '511446', '530714', '603165', '530813', '603159', '630980', '538180', '625947', '507450', '525588', '631499', '538110', '592542', '507701', '591311', '469396', '475441', '538360', '599696', '537478', '478734', '568539', '540027', '537792', '538063', '561306', '476052', '500351', '538277', '503467', '538375', '569851', '606641', '476216', '569927', '506954', '530843', '630766', '539037', '569730', '601856', '585755', '507474', '499062', '632761', '592302', '540074', '538584', '507108', '476007', '631042', '630853', '529305', '507092', '622657', '598441', '600855', '476105', '601695', '627215', '476092', '633681', '570341', '598862', '501639', '630921', '636189', '568533', '476237', '569611', '476025', '508268', '598686', '538280', '507152', '538989', '538389', '538249', '476070', '537628', '633417', '508261', '507234', '631005', '528742', '476189', '469417', '475939', '598292', '582774', '529222', '575935', '541441', '561272', '568649', '574982', '631118', '630850', '569028', '507110', '468918', '598927', '600917', '630834', '473479', '476014', '538030', '500993', '526957', '596358', '591475', '538253', '595141', '602632', '569694', '503413', '598596', '475676', '569667', '598275', '507015', '470364', '598598', '598301', '601701', '469452', '476232', '538025', '589988', '509112', '606648', '569911', '507075', '598478', '538295', '598412', '499115', '601859', '631380', '598392', '631015', '630809', '528618', '509334', '630955', '602623', '530345', '631139', '630795', '569713', '507706', '598550', '630860', '468928', '591439', '476164', '501008', '630823', '598482', '476063', '501027', '650109', '600931', '537585', '598572', '631025', '569876', '598506', '507122', '475982', '631136', '538087', '538311', '529327', '507114', '478704', '538378', '622225', '624906', '587535', '507162', '570813', '510159', '530790', '602628', '633745', '596626', '630779', '475380', '510167', '537616', '622191', '507680', '507144', '508897', '636210', '538373', '636197', '633598', '469048', '598527', '491844', '560187', '559553', '478077', '636188', '506973', '598371', '631137', '561283', '538256', '507078', '539333', '598600', '598626', '598434', '631007', '561253', '596370', '631075', '631071', '511428', '507456', '511430', '591399', '538384', '538240', '622289', '567453', '636195', '594985', '501063', '569673', '631202', '499085', '631105', '570095', '499091', '598492', '507177', '530727', '630998', '598566', '591302', '598789', '569622', '569964', '570335', '630856', '530807', '507157', '598406', '569954', '507163', '476185', '622371', '507173', '636904', '506982', '499024', '469022', '633499', '507602', '507025', '622404', '598560', '600891', '476043', '561223', '598603', '569887', '507057', '528759', '538293', '569950', '630946', '630887', '507811', '561242', '537638', '630863', '473478', '631023', '511462', '528639', '538039', '598974', '630919', '507206', '498994', '468722', '507454', '468747', '633641', '598520', '570447', '630816', '622640', '469409', '528708', '507286', '560179', '633680', '598454', '468753', '588099', '602626', '633578', '557055', '538146', '630818', '598306', '569712', '561269', '538213', '526956', '636184', '633645', '569948', '507065', '569955', '507702', '482001', '560260', '478097', '598664', '582772', '528702', '507265', '600858', '507463', '570228', '503419', '476085', '570094', '593933', '598541', '633547', '507081', '598797', '598233', '482014', '538321', '596644', '587524', '598270', '507387', '569800', '478257', '478706', '570365', '476201', '630775', '506994', '631116', '600999', '476188', '615672', '601699', '606653', '538381', '561239', '469429', '540105', '499163', '468781', '633561', '538582', '532980', '631252', '598231', '598443', '600951', '476174', '565265', '476136', '537717', '476206', '538304', '528763', '631164', '507210', '538386', '570419', '598829', '630826', '650115', '539926', '476048', '622632', '496647', '530344', '598234', '478325', '598390', '631090', '476226', '479557', '539341', '633468', '636902', '560247', '621478', '470353', '598544', '570078', '560173', '537584', '536864', '476171', '538060', '602767', '476079', '537748', '538306', '503445', '528286', '507037', '633570', '592341', '630807', '630787', '501048', '569736', '507106', '630891', '630822', '509722', '601672', '537497', '475937', '569867', '633723', '591448', '537081', '560223', '565290', '569728', '569967', '475445', '570395', '598229', '591446', '594994', '575262', '468965', '622240', '568228', '499069', '537767', '569817', '507126', '537853', '631098', '499244', '630944', '481986', '529363', '507213', '565303', '538594', '470383', '598394', '476112', '510169', '622658', '598581', '588118', '476102', '565316', '598452', '468882', '622178', '627180', '476272', '538333', '633690', '475381', '598262', '507049', '476010', '598266', '569878', '565315', '540557', '630884', '600890', '537559', '538318', '627196', '598893', '507202', '530773', '603148', '538285', '569846', '528328', '529268', '475144', '507436', '569631', '569640', '565299', '598994', '476186', '478707', '475998', '650111', '598501', '559603', '594975', '569912', '593934', '630916', '499252', '598462', '539098', '633676', '598322', '630997', '475255', '476001', '538322', '598307', '600844', '528616', '468974', '633593', '603153', '570329', '506923', '511465', '569627', '601679', '507190', '601693', '506980', '538130', '476080', '622653', '538123', '569920', '560276', '475941', '569660', '538144', '507339', '560206', '499165', '509661', '506995', '538128', '507245', '627204', '476263', '537077', '631331', '575920', '475507', '636910', '633385', '633511', '537507', '526510', '500331', '569907', '575672', '598504', '507263', '598760', '598842', '477979', '468778', '470374', '538383', '497250', '507181', '569674', '631126', '468905', '631125', '561199', '469035', '476016', '499107', '570193', '538354', '595135', '598299', '475666', '633574', '470343', '507465', '598685', '592305', '507123', '538135', '630774', '630810', '598507', '475967', '538339', '570400', '470419', '560141', '598265', '507164', '507704', '469027', '507564', '587509', '540026', '622690', '630789', '631394', '469009', '631129', '598594', '499127', '499251', '538116', '561250', '567443', '565288', '630931', '469433', '631024', '476264', '476033', '632960', '592311', '529311', '630901', '507089', '538334', '569792', '632716', '499000', '538991', '569692', '622327', '475317', '539918', '561299', '475960', '622268', '598400', '507155', '598549', '476158', '598559', '569916', '538992', '507026', '530791', '475225', '500971', '596642', '631061', '476015', '539075', '598850', '538981', '598567', '481987', '598471', '528719', '598848', '478084', '507378', '598571', '478320', '636201', '633378', '569877', '569657', '475231', '569977', '538296', '615675', '622373', '507050', '477920', '600892', '630892', '591326', '539190', '565272', '569727', '598589', '501022', '541446', '538201', '506909', '598284', '476098', '510166', '470395', '475269', '469015', '631512', '507401', '507383', '507255', '469046', '497125', '475942', '630973', '537755', '631013', '598361', '570315', '537848', '537819', '537557', '598631', '476212', '630804', '475162', '538147', '475978', '475291', '553336', '647687', '507020', '476086', '569898', '569679', '636191', '471152', '506993', '630932', '591273', '507125', '630881', '631250', '468741', '468925', '501049', '538241', '598280', '598803', '476273', '622343', '509342', '529373', '600927', '569850', '529242', '603161', '596901', '539919', '585744', '526511', '622321', '538372', '598577', '561302', '601700', '507693', '598530', '598985', '507837', '475987', '508273', '630785', '538195', '561152', '528690', '475947', '596357', '633735', '560192', '538272', '633682', '478049', '633630', '569723', '503474', '468759', '537647', '507447', '538202', '570311', '630957', '507601', '499113', '538340', '538078', '630940', '582768', '475671', '631511', '537749', '503438', '570806', '507647', '595015', '503458', '474804', '511435', '507183', '560214', '537765', '539917', '631117', '569650', '538394', '476242', '538050', '598552', '622381', '478256', '630879', '508899', '596351', '630934', '528713', '507574', '476036', '598556', '598248', '507402', '631119', '630981', '600842', '503456', '529367', '499258', '506945', '598258', '560097', '528275', '532978', '598453', '631441', '503459', '537517', '569732', '476280', '538294', '570259', '539920', '630800', '475251', '585754', '475996', '598418', '501076', '503479', '569757', '507058', '596488', '476169', '507069', '471148', '500319', '598425', '476229', '507860', '506944', '476075', '473871', '478303', '631465', '475975', '622351', '596385', '561265', '501031', '510171', '560091', '569823', '475218', '507407', '569822', '598674', '598841', '560175', '469426', '615680', '598547', '530702', '589241', '468902', '475425', '506964', '507072', '601680', '570324', '591388', '507586', '507587', '498269', '581764', '598593', '569767', '507203', '615668', '507266', '507276', '598897', '470310', '538298', '630938', '633674', '587527', '630812', '631010', '499307', '561184', '631133', '622283', '476009', '600843', '476278', '529274', '473876', '475104', '598257', '507674', '598416', '630866', '559591', '527520', '618627', '598619', '569738', '507521', '615676', '633612', '630859', '530795', '478036', '538212', '538350', '530340', '569752', '570295', '631424', '476120', '540071', '569935', '630819', '538303', '596491', '569928', '598644', '501057', '538140', '560124', '598367', '507505', '633750', '591298', '622306', '507259', '476260', '598235', '591390', '529241', '596620', '554825', '475430', '481994', '569826', '470400', '538259', '598373', '469405', '630950', '570359', '651845', '507652', '476140', '630914', '570371', '598243', '630989', '538263', '507611', '538267', '478735', '631373', '507333', '478029', '594970', '475205', '499228', '500324', '469072', '565306', '569779', '631174', '630871', '622305', '495491', '592343', '569970', '538236', '507422', '598295', '536865', '596905', '569963', '599698', '569896', '624916', '475934', '631114', '481998', '530736', '475972', '538361', '507487', '492121', '475238', '528615', '529346', '598523', '606639', '507141', '476117', '475224', '630924', '537661', '499019', '538291', '476012', '538990', '631476', '633469', '633736', '570112', '565319', '476281', '528635', '598583', '507695', '538246', '598988', '598252', '476124', '528773', '631265', '631414', '630902', '475928', '561249', '468727', '507146', '475250', '565262', '537796', '469017', '632961', '601007', '475376', '622223', '570221', '507171', '561268', '630966', '528605', '507391', '530722', '598679', '537763', '528651', '477960', '598591', '591413', '475427', '619894', '569742', '507153', '606642', '631028', '569897', '538382', '600989', '591271', '632954', '600926', '475976', '560217', '615682', '598533', '482024', '561224', '538049', '600829', '630781', '537665', '630947', '589994', '506916', '538301', '537739', '526016', '561208', '500924', '569797', '478135', '601860', '476224', '538235', '476268', '615670', '469010', '529339', '591444', '478040', '529238', '471170', '468922', '507035', '598661', '476017', '631009', '560250', '633603', '503421', '591292', '598941', '600876', '538098', '565298', '570117', '506921', '475154', '598979', '477995', '511453', '652194', '528694', '507097', '598342', '538033', '569720', '538152', '507172', '570380', '507028', '591427', '537678', '506946', '506974', '631142', '553334', '538053', '498290', '622242', '469450', '631445', '498287', '647699', '507074', '631433', '598488', '601674', '510163', '530737', '506985', '538347', '478028', '631464', '599711', '630909', '569688', '507023', '565270', '507041', '569699', '631407', '525137', '507042', '561151', '632758', '598226', '554824', '506960', '569675', '478301', '598283', '507010', '591462', '478039', '619896', '477910', '631099', '478733', '632749', '478073', '569905', '478739', '631008', '560280', '475968', '528699', '528762', '631180', '598548', '528599', '647689', '633634', '569780', '476248', '538585', '587533', '477964', '538338', '538034', '529343', '598313', '538282', '598346', '567952', '557052', '585752', '507434', '476243', '528645', '570299', '496975', '633531', '569658', '569899', '631247', '631151', '600945', '631140', '569868', '475997', '598968', '475932', '507239', '475244', '575018', '633737', '506990', '618593', '537536', '569888', '537079', '569687', '561227', '569974', '592357', '569820', '537803', '532779', '569758', '591394', '630839', '559571', '502354', '501034', '569691', '476083', '598415', '478322', '476000', '598350', '598442', '538099', '598427', '569693', '622316', '598676', '507036', '538312', '569744', '598923', '570812', '477912', '598640', '508269', '530684', '587518', '570345', '530788', '476282', '476295', '499093', '560231', '633619', '591316', '499081', '633315', '476051', '507790', '618622', '633677', '503463', '507405', '476021', '507005', '539102', '569681', '507559', '476269', '631365', '631225', '507104', '537667', '538145', '630846', '475106', '598529', '598352', '560125', '478116', '500317', '537841', '538288', '528753', '600981', '598866', '476056', '507731', '539338', '499010', '598817', '630841', '538153', '539183', '506932', '598351', '509340', '476060', '582777', '475673', '630857', '538149', '507100', '478087', '507751', '647691', '475351', '476114', '509333', '598957', '538395', '598570', '476119', '632714', '598317', '561228', '591296', '598365', '529336', '622329', '506996', '538278', '503440', '630974', '591324', '525592', '561222', '622384', '587536', '476166', '600908', '510168', '568229', '569831', '476195', '471151', '631130', '560279', '598673', '528732', '561229', '622294', '475432', '630900', '507616', '478715', '475120', '628621', '627223', '598614', '478326', '631403', '601681', '498977', '631484', '561204', '538325', '598568', '526017', '528657', '598680', '592334', '507205', '569756', '470367', '654092', '598801', '598574', '633418', '592299', '598253', '538388', '575775', '537561', '511454', '631211', '600903', '528769', '591406', '507009', '598662', '631060', '569644', '633647', '633738', '476143', '601683', '630778', '628627', '537718', '598420', '475973', '507238', '598602', '630852', '510170', '538269', '476131', '538095', '478708', '475680', '570075', '538353', '476196', '598920', '622387', '598761', '594960', '569941', '569861', '538335', '473883', '622179', '633559', '633733', '598823', '565269', '507167', '507634', '468948', '478091', '591272', '653770', '537607', '526513', '569636', '511424', '507185', '588108', '633504', '591288', '538196', '569795', '601677', '631070', '569855', '507357', '507260', '475335', '570149', '591401', '475925', '470404', '506989', '527497', '600828', '498738', '507143', '476109', '630784', '475663', '630933', '507641', '569832', '538591', '501042', '476255', '476293', '507721', '507287', '538265', '474805', '476191', '507004', '475999', '476004', '476062', '622239', '598403', '633744', '499212', '506966', '561190', '538317', '475385', '599700', '598448', '636907', '507375', '598967', '622693', '591319', '567434', '572198', '570188', '587522', '506965', '565280', '507087', '538234', '476030', '631079', '508262', '598433', '631047', '567454', '507733', '525590', '538081', '530763', '631131', '507585', '503476', '592319', '507083', '570207', '507627', '570839', '507485', '598345', '539097', '561205', '507251', '528778', '506975', '511436', '507828', '601698', '632959', '476209', '569762', '476094', '598332', '601671', '470304', '632762', '598276', '499092', '506918', '478324', '506926', '622925', '530786', '630864', '537807', '630780', '598712', '499063', '501030', '603162', '530774', '538082', '528319', '469453', '630814', '581765', '618626', '506912', '630783', '475933', '476156', '591435', '618588', '498741', '622357', '622278', '559589', '469398', '470313', '507247', '469031', '511036', '468924', '530333', '598502', '569709', '507132', '627190', '598677', '569821', '601704', '528725', '468893', '569761', '630832', '538101', '530760', '588117', '528662', '475121', '509337', '568655', '475431', '569881', '538083', '538126', '481989', '530775', '539929', '598493', '475949', '592331', '520829', '475172', '570206', '501014', '470408', '499116', '478114', '476245', '538167', '569684', '538193', '507240', '507191', '538084', '468944', '630820', '595002', '537545', '631063', '507336', '477909', '507044', '475185', '477988', '630943', '538390', '476194', '476002', '527518', '569711', '527495', '499077', '498978', '538054', '475155', '598359', '475667', '569724', '476178', '598447', '537668', '510157', '530826', '528714', '476228', '540078', '508892', '627206', '538170', '476071', '561238', '598472', '633607', '468888', '622332', '591304', '476134', '507027', '553335', '630954', '615674', '598592', '475095', '476217', '538194', '598733', '622247', '592321', '537719', '622352', '561157', '537822', '598618', '602629', '538052', '570330', '630948', '511456', '633671', '631115', '507142', '538026', '570085', '631107', '537639', '507771', '585746', '475413', '630904', '529341', '598769', '540117', '509117', '475133', '469445', '540556', '622659', '631002', '470332', '476077', '507031', '565283', '476149', '507124', '499121', '565277', '507275', '650108', '476190', '507051', '631051', '507460', '598458', '475201', '630844', '537705', '570097', '538188', '630848', '538247', '598726', '476267', '538583', '568643', '601705', '507130', '569751', '538164', '598387', '598241', '537625', '538177', '565782', '591266', '598783', '622282', '498725', '569696', '568637', '538171', '560197', '630835', '508265', '507149', '538346', '606638', '507773', '569716', '569652', '530798', '598669', '631132', '476290', '537630', '576544', '630963', '476165', '499117', '630833', '507940', '469059', '478251', '630988', '469432', '569882', '476276', '469065', '469424', '630925', '478252', '630910', '529280', '570111', '598249', '537065', '569951', '598885', '569645', '601676', '538593', '478323', '468952', '507496', '598954', '598368', '537553', '627230', '475948', '631292', '632748', '538368', '559579', '569947', '631261', '569930', '526516', '493706', '630830', '508900', '507668', '592337', '570146', '538209', '498705', '622354', '538215', '561197', '585756', '600995', '503470', '560196', '631446', '633381', '591254', '569818', '631234', '507536', '469028', '539030', '569029', '630788', '528312', '470392', '507111', '589996', '622281', '500334', '468927', '473455', '631135', '591263', '590000', '468719', '538370', '628643', '538371', '560205', '538380', '630764', '598237', '630952', '569853', '601687', '569824', '469434', '476050', '507283', '568537', '530746', '569634', '631456', '631053', '575919', '569617', '598490', '509848', '508259', '507018', '538292', '537090', '569829', '565294', '600987', '598369', '537779', '529316', '630984', '507151', '598483', '475410', '538069', '622688', '470344', '622299', '598515', '499104', '622376', '507033', '631092', '598457', '598808', '475959', '561217', '506929', '510162', '631141', '569731', '511421', '630777', '507449', '506937', '529335', '520827', '507711', '468738', '630803', '530751', '537605', '476266', '539001', '560241', '560207', '557643', '631094', '499247', '598516', '598537', '510161', '527496', '538580', '599699', '569919', '664847', '539188', '598742', '538142', '651846', '569753', '530720', '538242', '622661', '598254', '499047', '538176', '507267', '570268', '469427', '537086', '469443', '540110', '569802', '570241', '508270', '570258', '598312', '630982', '499066', '501635', '537715', '476236', '476078', '478254', '525134', '591255', '598268', '476183', '630874', '560092', '560145', '631428', '588119', '528643', '598845', '606649', '598340', '528748', '598705', '537815', '631097', '631088', '633755', '475995', '475990', '569812', '603158', '568619', '633508', '601509', '468968', '596364', '476097', '507394', '569957', '538181', '538352', '598900', '569813', '636899', '561246', '478710', '631048', '569819', '538220', '631103', '585748', '538061', '538345', '507105', '582773', '560156', '631093', '630908', '560208', '598411', '469451', '507667', '481993', '592911', '476289', '591459', '528752', '630782', '507307', '537567', '592317', '598430', '537708', '507258', '507156', '569901', '509735', '476197', '630897', '507229', '591424', '630801', '570808', '601712', '500938', '569791', '475454', '475405', '476027', '537817', '569849', '525147', '538125', '507179', '506915', '598485', '476110', '540112', '507222', '537635', '630796', '499120', '473863', '598232', '569612', '630768', '507417', '598413', '499238', '622630', '507118', '475970', '507315', '499089', '492112', '478134', '530781', '570374', '598363', '481991', '598601', '570197', '474979', '498987', '471169', '606647', '528730', '600934', '631057', '475988', '469043', '561281', '469411', '475509', '506917', '591385', '538369', '538058', '569866', '499074', '476258', '538100', '588120', '598843', '598575', '478127', '528321', '606646', '507367', '631284', '565786', '633687', '477919', '538070', '560220', '636900', '636212', '560261', '475298', '570230', '574894', '559575', '538155', '570841', '598768', '569662', '537532', '476013', '538175', '591278', '539038', '570832', '499129', '475038', '652196', '475324', '633615', '570358', '507084', '630990', '570346', '538307', '537757', '598396', '476176', '563204', '476159', '507169', '475126', '598531', '596363', '538398', '538192', '598377', '598277', '507232', '598475', '499218', '598525', '507498', '598333', '538316', '598320', '538233', '476032', '473894', '631134', '509723', '468769', '507175', '508896', '598545', '569959', '538120', '598521', '500939', '630875', '600853', '557733', '537658', '538136', '538364', '538158', '631085', '493703', '510164', '598341', '538266', '538080', '569804', '598784', '530793', '630993', '569915', '598932', '475039', '598955', '537736', '598500', '622263', '560264', '569787', '594984', '478259', '507056', '630890', '478075', '507522', '469026', '539922', '507689', '538122', '569895', '538047', '475083', '600939', '592338', '598464', '537710', '499284', '478146', '569718', '506910', '628624', '569870', '568656', '561264', '499006', '476138', '631077', '600916', '602631', '538072', '560244', '475966', '538154', '476173', '475974', '630849', '478717', '598653', '650113', '499223', '599712', '476227', '630792', '530337', '598809', '633534', '475196', '598695', '538046', '598397', '570291', '596492', '569717', '561164', '507343', '529231', '598239', '538258', '598255', '598717', '598315', '598467', '630991', '476118', '532784', '474985', '633517', '615671', '598245', '507740', '598431', '470418', '622362', '538029', '598535', '507095', '631231', '468907', '618623', '528324', '473867', '503416', '572199', '565275', '537573', '528739', '508276', '598298', '631011', '499031', '501056', '528687', '631102', '468729', '601707', '500915', '598833', '471136', '538206', '475114', '539916', '569871', '630996', '560219', '474982', '538385', '470362', '537498', '475345', '633655', '591286', '507246', '476231', '569962', '631127', '507242', '598380', '507178', '598309', '569944', '598655', '476202', '475200', '560182', '507052', '538257', '633721', '518199', '591450', '631058', '631040', '538326', '598921', '476160', '598881', '537725', '598310', '598247', '600953', '538221', '475956', '636204', '598936', '618594', '499040', '569639', '476287', '506948', '569830', '506979', '478718', '598399', '475954', '601003', '570415', '507221', '570277', '538162', '468881', '598347', '527498', '630767', '598870', '528776', '596615', '476238', '569783', '529236', '554826', '539928', '529269', '560225', '598360', '528765', '567435', '477916', '592356', '615678', '476127', '598348', '499262', '598402', '511429', '503473', '507063', '560136', '630915', '471154', '538179', '598945', '538184', '630865', '537509', '498970', '538223', '538163', '622249', '469446', '633596', '530776', '499076', '507328', '528659', '592324', '631020', '558754', '538064', '560195', '591420', '575016', '476181', '591395', '530323', '633649', '507048', '631276', '620056', '528744', '476018', '538198', '569958', '538055', '499001', '599713', '538279', '591384', '631214', '601854', '537551', '560165', '631034', '630876', '632955', '507200', '499060', '560235', '631014', '539930', '630977', '492120', '529370', '507006', '636905', '598473', '507280', '507517', '528683', '598440', '539184', '507832', '538132', '631109', '507598', '476213', '476144', '569632', '507535', '509345', '476299', '528764', '528276', '507883', '475927', '475370', '530692', '631033', '528647', '622287', '631496', '564573', '496977', '468891', '569828', '499257', '633673', '598915', '628623', '598385', '476003', '528751', '622173', '537752', '538141', '633613', '538349', '503477', '601697', '561195', '520830', '569778', '476214', '507154', '591405', '598528', '622350', '633749', '500929', '476161', '560134', '585749', '570170', '525144', '537488', '538161', '574895', '520832', '507062', '575777', '478300', '509344', '538031', '570216', '569745', '631193', '633741', '598914', '492111', '598303', '598539', '601694', '630855', '598439', '630994', '476008', '596636', '478017', '499036', '606644', '622251', '598446', '631110', '476152', '507161', '601688', '499283', '477976', '569926', '569629', '631163', '636207', '538077', '652195', '538040', '537698', '532782', '507237', '478060', '475124', '477986', '507284', '506962', '537805', '507186', '598407', '569839', '570195', '570251', '507244', '538043', '476297', '564571', '530347', '569747', '569722', '478015', '475348', '598358', '506991', '569869', '631396', '476182', '476090', '475980', '585758', '538393', '475664', '478113', '598585', '598250', '560236', '569946', '540561', '538092', '476252', '598271', '622200', '501026', '570407', '528627', '470384', '538286', '570130', '471145', '569937', '476011', '499082', '509879', '633576', '631228', '468963', '621479', '598336', '507085', '569862', '500997', '541448', '506992', '630888', '569981', '593915', '560114', '557734', '501637', '476130', '569874', '478100', '631215', '598983', '538387', '598362', '565284', '475182', '507067', '499217', '539927', '507269', '530700', '560190', '475165', '530732', '529359', '598272', '600901', '508267', '476147', '476073', '633623', '475993', '509343', '468967', '538271', '538590', '506919', '506963', '569808', '538341', '622383', '622678', '598495', '563207', '470338', '476199', '631046', '507060', '538255', '631087', '507013', '497251', '598762', '475983', '476294', '606643', '631386', '569710', '631128', '633530', '537825', '569705', '587534', '507214', '507427', '538587', '479554', '631361', '631052', '603172', '587507', '475303', '633490', '537581', '569798', '601710', '528609', '509730', '478712', '632953', '538396', '538232', '622368', '598486', '476222', '570406', '633558', '537648', '475356', '560119', '598691', '499041', '598487', '630808', '598384', '591431', '540565', '560159', '537690', '603149', '507150', '633489', '507021', '630837', '598892', '560120', '594744', '507113', '501634', '538376', '538219', '499033', '569619', '538200', '538045', '570121', '598800', '630922', '601857', '636901', '569917', '631294', '651849', '569803', '560254', '539096', '591445', '506941', '537619', '598745', '563206', '627214', '507274', '598263', '507194', '506908', '631072', '539073', '475670', '591433', '508891', '528179', '528724', '527543', '631043', '630886', '509882', '476253', '538379', '476219', '636199', '476285', '633746', '570092', '587530', '475392', '529247', '569659', '476244', '600821', '569671', '633579', '630978', '592444', '509729', '601685', '538118', '598704', '569784', '482007', '470355', '554817', '537769', '630911', '538274', '633380', '503455', '529320', '538119', '475977', '570194', '507188', '598871', '633757', '622320', '507195', '598910', '598509', '507233', '540553', '468752', '650114', '598375', '598960', '476132', '538044', '631019', '569845', '560106', '598767', '476064', '537601', '528772', '477911', '631343', '530750', '540116', '478319', '506978', '598314', '498722', '591422', '647695', '538079', '630895', '631411', '569740', '622311', '598505', '539031', '507615', '500335', '624913', '526326', '476284', '630847', '510165', '633662', '499042', '598279', '631341', '569769', '474992', '598251', '539072', '525595', '507696', '622667', '507285', '525135', '598510', '507566', '507204', '569838', '569973', '569892', '569902', '630861', '596630', '476042', '537776', '507499', '601682', '538222', '529328', '508274', '569939', '507224', '508263', '507170', '601696', '596903', '538260', '499128', '600880', '475508', '630967', '628628', '631018', '537656', '475924', '588093', '470354', '539002', '567466', '568628', '538091', '598586', '539186', '601690', '528738', '507326', '569770', '501039', '470389', '633740', '603173', '507595', '622687', '570115', '598395', '630903', '630805', '476035', '507002', '475669', '600847', '540104', '507198', '598989', '598297', '507091', '538320', '630870', '598497', '470399', '598854', '476145', '598856', '497558', '498992', '478713', '498972', '598649', '598785', '651842', '538065', '633565', '592360', '569743', '630843', '598463', '475945', '509843', '476057', '507107', '569654', '475984', '538302', '569637', '569913', '631082', '569782', '528693', '528315', '631152', '475981', '575263', '507656', '560167', '529315', '631081', '507119', '595136', '591308', '528684', '598503', '469400', '622385', '561168', '598498', '598771', '601702', '622365', '538169', '475674', '591315', '598259', '529303', '630872', '631153', '598834', '570835', '528760', '602748', '476218', '530343', '598286', '507134', '471142', '470349', '559566', '501037', '602766', '569620', '511033', '569786', '631056', '631026', '538348', '598476', '600563', '479556', '476101', '468771', '632957', '537845', '501051', '499112', '569975', '592350', '476091', '601001', '501059', '476106', '630831', '476081', '569735', '475316', '560108', '591428', '569768', '507046', '631066', '507217', '560166', '570265', '538245', '633732', '633516', '630873', '598428', '561167', '592326', '506997', '600877', '598584', '630771', '570385', '478137', '574981', '540114', '570245', '633609', '503427', '601703', '538984', '507066', '538358', '569656', '636193', '633650', '538270', '538199', '598391', '622218', '508893', '630983', '588124', '570129', '538290', '528695', '477994', '476103', '499101', '636182', '476142', '528610', '506956', '633523', '475965', '528689', '630960', '507296', '507098', '498993', '588122', '469430', '598632', '587528', '507525', '606652', '598891', '475935', '538129', '631323', '507254', '585751', '538096', '598289', '528177', '476205', '507545', '475986', '475085', '631100', '529324', '561172', '538166', '633743', '570294', '499058', '507848', '598779', '538159', '600861', '570198', '475220', '476210', '631101', '598469', '630889', '507230', '538089', '633646', '476044', '528598', '631381', '538391', '630979', '538287', '475938', '601855', '507148', '478095', '501001', '598437', '591408', '570319', '537485', '506983', '633739', '592332', '569961', '622331', '503472', '575015', '476121', '561296', '598324', '569635', '568541', '569844', '632952', '596649', '560193', '475265', '475341', '506940', '478115', '622322', '469449', '468897', '537753', '527542', '559558', '594995', '474974', '530805', '507133', '506951', '622269', '538174', '475362', '568511', '570139', '565305', '507012', '569621', '598654', '600961', '539074', '529258', '570165', '538085', '561305', '537568', '630975', '538982', '540109', '538138', '631337', '507282', '598646', '476024', '570411', '601678', '569884', '622674', '528298', '559608', '569984', '507281', '528597', '475962', '598328', '598538', '528629', '537637', '598735', '475992', '630936', '596907', '598323', '507399', '598335', '592541', '598484', '475334', '506943', '541444', '633664', '569908', '622301', '507726', '475979', '598835', '499051', '537689', '538143', '603174', '569737', '598329', '538156', '569914', '478854', '630845', '530838', '538020', '507252', '600897', '622312', '633752', '630786', '569835', '569685', '538276', '507094', '600975', '598470', '631120', '598514', '499231', '627235', '598228', '537555', '506936', '591438', '469070', '500916', '569642', '569934', '598916', '599706', '576543', '633608', '665264', '592300', '530711', '598236', '600832', '622679', '503485', '631068', '507137', '569733', '499012', '627241', '565295', '537826', '598287', '475285', '631050', '598554', '499110', '476111', '631344', '598435', '598562', '570314', '538041', '560116', '603163', '469063', '591407', '528628', '570432', '631524', '507219', '569665', '502753', '476125', '476180', '633654', '529321', '537838', '538075', '499094', '568620', '530671', '598389', '569614', '627194', '569872', '475235', '600826', '569986', '538160', '507262', '630869', '598337', '591454', '622663', '469057', '468912', '622257', '528727', '631230', '538261', '631311', '468929', '539923', '600893', '622198', '631041', '475961', '507747', '538157', '507692', '468773', '507271', '598709', '538042', '569655', '569755', '560201', '598518', '598349', '600967', '592327', '538173', '588101', '476184', '622638', '507467', '529366', '569879', '538067', '470334', '473882', '631523', '591465', '569988', '633522', '631111', '600906', '622337', '569651', '636903', '631422', '537504', '476157', '598449', '570387', '476020', '622228', '569894', '569989', '560230', '569729', '569925', '569814', '569701', '498268', '503435', '476023', '478736', '632751', '630797', '631022', '507576', '631461', '598321', '539924', '568642', '530806', '495492', '500996', '570183', '537505', '538313', '598414', '538275', '510160', '631388', '506928', '598546', '630986', '560162', '569809', '569680', '569836', '622262', '499263', '538284', '538250', '475455', '537073', '478055', '538308', '538337', '631062', '598738', '633384', '620064', '507881', '589238', '631327', '569686', '476100', '630935', '503423', '631003', '506967', '506955', '591291', '630995', '598725', '598543', '631104', '569980', '589240', '569840', '470339', '560126', '636190', '630840', '598940', '569750', '468917', '631029', '476168', '538038', '476049', '476241', '508898', '591469', '569852', '507279', '631049', '475352', '478703', '630868', '476257', '491846', '630880', '506988', '538264', '528705', '592344', '506970', '570161', '469393', '596624', '476234', '507112', '506939', '501078', '569697', '507168', '591381', '630898', '636192', '592315', '622313', '631280', '631173', '507158', '560138', '598489', '570278', '565297', '507253', '569726', '565264', '537617', '537483', '476034', '538051', '478128', '477914', '598379', '600943', '598532', '630825', '622691', '530713', '569672', '622211', '476093', '507138', '630772', '469454', '598319', '633748', '560142', '537527', '528771', '598325', '509846', '569889', '598792', '507139', '569810', '538028', '538226', '507000', '477915', '506972', '507193', '529319', '560199', '569942', '585745', '569922', '537659', '627182', '501038', '598953', '506986', '475952', '499075', '506924', '627220', '468962', '598354', '647688', '569801', '570101', '598876', '530844', '537675', '569615', '592336', '537499', '529372', '570361', '501073', '569698', '565273', '476203', '598364', '478147', '499014', '499059', '560160', '569971', '537539', '596356', '569848', '507064', '538048', '507604', '631281', '475131', '538218', '507257', '598378', '569793', '600992', '538111', '476055', '506952', '507655', '589997', '501009', '537579', '476123', '601670', '538151', '630907', '630905', '622370', '598860', '507003', '538109', '538022', '507215', '476137', '538254', '507366', '529331', '569623', '631030', '570810', '468737', '598330', '631106', '636909', '598629', '478054', '481996', '630985', '538281', '630939', '528700', '539040', '475958', '598422', '511423', '630791', '476283', '598824', '541447', '569924', '537799', '499084', '633631', '477659', '560143', '539112', '592297', '598290', '594738', '567951', '560278', '476155', '569703', '622394', '554822', '598288', '591323', '538124', '631113', '507131', '569976', '469436', '569653', '585753', '506927', '500979', '563205', '507022', '507426', '565285', '530330', '538191', '499028', '622338', '561180', '598805', '537598', '471153', '596614', '630790', '598300', '598240', '606651', '569945', '602651', '507070', '528710', '476254', '470401', '478007', '636911', '600868', '476115', '509847', '507073', '509731', '538363', '530754', '598716', '575932', '539007', '622364', '477961', '530729', '482013', '507293', '560127', '475158', '501012', '561209', '499239', '601858', '631314', '636896', '560248', '650112', '476211', '499070', '565268', '630918', '476022', '526014', '631006', '478030', '631054', '603175', '538165', '528715', '478145', '538399', '475435', '538197', '630959', '507024', '653775', '622210', '598642', '569789', '569613', '598524', '538227', '529299', '470366', '468904', '565314', '622347', '598401', '569666', '474975', '630951', '476089', '631073', '630941', '538985', '538189', '507109', '630763', '537735', '598582', '598242', '557735', '530698', '507754', '537520', '598697', '569909', '509856', '598474', '622304', '603156', '470331', '507093', '569834', '565261', '473449', '500322', '631000', '600874', '507236', '538330', '527515', '507055', '587521', '537518', '538332', '538117', '478855', '569760', '477652', '478047', '631112', '499002', '600971', '598982', '630878', '598749', '529265', '618279', '633282', '622668', '475326', '600947', '478716', '538225', '569754', '507857', '538211', '598326', '631474', '509844', '538204', '569704', '507579', '476039', '598623', '598587', '598491', '569979', '569763', '538105', '630896', '569943', '630867', '503426', '598542', '475141', '560170', '631083', '560152', '476108', '598410', '538131', '537542', '569806', '553337', '606640', '499043', '570378', '594736', '569708', '598450', '600875', '507416', '538987', '540562', '529263', '598590', '506950', '530715', '632718', '587503', '469399', '538331', '475288', '622641', '600984', '477908', '598260', '560186', '507327', '602652', '563203', '475271', '569739', '598699', '598903', '509335', '537531', '591396', '474984', '631036', '600907', '537646', '591434', '507136', '507270', '567451', '537696', '475176', '622236', '598356', '570263', '631059', '468880', '530758', '598468', '511434', '529332', '506914', '507227', '476141', '537764', '537737', '560109', '506911', '475215', '622323', '569863', '572818', '622685', '569748', '530831', '569931', '570438', '630877', '474988', '476066', '622401', '595009', '500994', '469014', '476167', '569765', '476250', '475672', '501010', '529306', '506949', '569794', '539339', '476026', '569856', '598376', '507196', '477987', '569890', '630958', '538283', '598238', '598987', '630923', '618624', '471149', '598481', '598465', '603152', '559599', '630928', '509803', '557732', '600960', '468934', '622245', '569649', '476116', '538273', '475955', '598715', '507801', '628645', '622336', '570279', '500941', '507273', '569788', '507180', '630893', '636898', '570836', '537680', '622664', '538314', '507767', '538059', '657261', '529139', '618625', '598344', '569841', '560176', '631017', '622296', '529226', '633416', '475197', '615673', '598426', '507040', '469024', '598624', '631356', '482033', '569933', '509662', '630949', '630913', '630930', '499131', '491843', '538134', '633657', '569764', '469423', '598540', '530317', '598711', '538073', '624917', '570215', '468938', '600889', '570439', '507030', '475930', '585757', '598599', '507617', '473448', '598273', '630842', '538351', '538090', '569825', '569827', '598357', '539925', '476288', '647698', '598553', '501072', '600865', '569781', '507377', '569860', '598778', '631501', '598703', '569847', '569682', '622675', '569983', '476099', '507032', '538037', '631434', '475222', '569714', '538093', '476207', '602624', '598561', '592296', '582770', '506922', '633688', '569683', '559613', '507241', '565304', '476192', '507071', '469067', '500918', '631191', '477922', '592352', '598844', '507678', '528655', '554819', '569695', '569953', '499222', '526515', '631038', '508902', '507045', '476029', '569777', '633747', '591261', '506913', '475679', '601689', '507128', '569734', '595013', '476095', '592359', '570375', '501021', '469418', '507871', '570428', '630992', '630794', '569940', '569886', '539185', '482022', '529337', '468740', '538139', '598417', '569978', '630799', '591325', '538068', '569843', '538367', '538324', '476129', '537487', '598551', '569966', '591284', '559567', '476221', '598296', '538299', '569776', '476301', '598975', '602625', '537596', '636908', '651843', '570446', '598959', '598285', '598318', '622318', '537575', '592301', '500951', '618592', '478107', '539197', '622256', '475931', '538066', '499208', '506942', '603169', '600964', '630815', '529235', '478711', '469069', '651844', '601711', '507082', '633658', '511442', '503446', '554831', '598884', '539071', '476172', '561308', '476198', '618628', '538214', '592353', '631415', '508895', '508894', '569772', '537599', '631001', '499026', '569661', '537078', '507129', '560271', '591260', '499308', '622265', '560104', '569669', '598588', '575774', '591461', '598517', '618589', '508266', '499124', '475985', '598576', '499050', '631351', '538036', '568510', '568629', '530730', '636906', '538359', '559600', '499030', '475164', '475675', '539340', '631205', '569903', '475332', '598926', '633599', '631301', '567428']\n"
          ]
        }
      ]
    },
    {
      "cell_type": "markdown",
      "source": [
        "Vamos salvar esses arquivos em csv para não precisar realizar o scrapping novamente até aqui."
      ],
      "metadata": {
        "id": "gk7932wbEw6O"
      }
    },
    {
      "cell_type": "code",
      "source": [
        "nome_do_arquivo = 'id_das_partidas.csv'\n",
        "\n",
        "with open (nome_do_arquivo, 'w', newline='') as arquivo: \n",
        "  escritor_csv = csv.writer(arquivo, delimiter=',')\n",
        "  escritor_csv.writerow(['Valores'])\n",
        "\n",
        "  for valor in partidas_unicas: \n",
        "    escritor_csv.writerow([valor])"
      ],
      "metadata": {
        "id": "RQ9pygI4FaSY"
      },
      "execution_count": 31,
      "outputs": []
    },
    {
      "cell_type": "markdown",
      "source": [
        "Aqui eu vou simplesmente criar uma lista para prosseguir com o código, para que sua leitura seja menos confusa"
      ],
      "metadata": {
        "id": "fc3jPZDPc---"
      }
    },
    {
      "cell_type": "markdown",
      "source": [
        "o que eu tenho em link? Em Link eu tenho todos os times que estão na Série A desse ano (20) e sua trajetória desde 2017. Logo, eu tenho 6 anos e 20 times o que é igual a 120."
      ],
      "metadata": {
        "id": "Fw3HY_yhdn3f"
      }
    },
    {
      "cell_type": "markdown",
      "source": [
        "##Próximos Passos\n",
        "\n",
        "Os próximos passos agora são abrir os sites e filtar aqueles que contém as estatísticas dos times que se confrontaram para que aí sim possamos criar um novo csv com todos esses valores e partir para a Análise de Dados."
      ],
      "metadata": {
        "id": "K8DKfxEdGQi2"
      }
    }
  ]
}